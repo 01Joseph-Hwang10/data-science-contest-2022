{
 "cells": [
  {
   "cell_type": "code",
   "execution_count": 1,
   "id": "03cddf50",
   "metadata": {},
   "outputs": [],
   "source": [
    "from lightgbm import LGBMClassifier\n",
    "\n",
    "import numpy as np\n",
    "import pandas as pd\n",
    "from sklearn.model_selection import train_test_split\n",
    "import matplotlib.pyplot as plt\n",
    "\n",
    "from sklearn.metrics import roc_auc_score\n",
    "from sklearn.model_selection import cross_val_score\n",
    "from sklearn.model_selection import StratifiedKFold\n",
    "\n",
    "from sklearn.model_selection import GridSearchCV\n",
    "import optuna\n",
    "from optuna.trial import Trial\n",
    "from optuna.samplers import TPESampler\n",
    "import warnings\n",
    "warnings.filterwarnings('ignore')\n",
    "\n",
    "from typing import List, Any, Tuple\n",
    "from sklearn.preprocessing import MinMaxScaler"
   ]
  },
  {
   "cell_type": "code",
   "execution_count": 2,
   "id": "9a0b5315",
   "metadata": {},
   "outputs": [],
   "source": [
    "# Data Loading\n",
    "X_model = pd.read_csv('X_model.csv')\n",
    "Y_model = pd.read_csv('Y_model.csv')\n",
    "scaler = MinMaxScaler(feature_range=(0,1))"
   ]
  },
  {
   "cell_type": "code",
   "execution_count": 3,
   "id": "f75183d1",
   "metadata": {},
   "outputs": [
    {
     "name": "stdout",
     "output_type": "stream",
     "text": [
      "Filtering outliers...\n",
      "Defining preprocessors...\n"
     ]
    }
   ],
   "source": [
    "# Filter outliers by \"entire\"\n",
    "# Ref: https://machinelearningmastery.com/how-to-use-statistics-to-identify-outliers-in-data/\n",
    "print(\"Filtering outliers...\")\n",
    "df_base = pd.concat([X_model, Y_model], axis=1)\n",
    "df_processed = pd.DataFrame(data=df_base, columns=['business'])\n",
    "df_processed['cEntire'] = df_base.filter(regex=\"c\" + r\"2022[0-9]*\", axis=1).fillna(0).sum(axis=1)\n",
    "df_processed['tEntire'] = df_base.filter(regex=\"t\" + r\"2022[0-9]*\", axis=1).fillna(0).sum(axis=1)\n",
    "df_processed['sEntire'] = df_base.filter(regex=\"s\" + r\"2022[0-9]*\", axis=1).fillna(0).sum(axis=1)\n",
    "\n",
    "# outliers = []\n",
    "\n",
    "# def collect_outliers(business: int, key: str):\n",
    "#     df_target = df_processed[df_processed['business'] == business]\n",
    "#     q1, q3 = df_target[key].quantile([0.25, 0.75])\n",
    "#     iqr = q3 - q1\n",
    "#     cutoff = iqr * 2.0\n",
    "#     lower, upper = q1 - cutoff, q3 + cutoff\n",
    "#     _outliers = df_target[(df_target[key] < lower) | (df_target[key] > upper)].index.tolist()\n",
    "#     print(len(_outliers))\n",
    "#     outliers.extend(_outliers)\n",
    "\n",
    "# collect_outliers(0, 'cEntire')\n",
    "# collect_outliers(1, 'cEntire')\n",
    "# collect_outliers(0, 'tEntire')\n",
    "# collect_outliers(1, 'tEntire')\n",
    "# collect_outliers(0, 'sEntire')\n",
    "# collect_outliers(1, 'sEntire')\n",
    "\n",
    "# outliers = list(set(outliers))\n",
    "\n",
    "# Filter outliers from df\n",
    "# def filter_outliers_from_df(df: pd.DataFrame, outliers):\n",
    "#     return df.drop(outliers)\n",
    "\n",
    "# X_model = filter_outliers_from_df(X_model, outliers)\n",
    "# Y_model = filter_outliers_from_df(Y_model, outliers)\n",
    "\n",
    "# Get columns of \"c\" prefix of last 5 days of month\n",
    "last_5_days = [\n",
    "    *[f\"c202201{i + 27}\" for i in range(5)],\n",
    "    *[f\"c202202{i + 24}\" for i in range(5)],\n",
    "    *[f\"c202203{i + 27}\" for i in range(5)],\n",
    "    *[f\"c202204{i + 26}\" for i in range(5)],\n",
    "    *[f\"c202205{i + 27}\" for i in range(5)],\n",
    "    *[f\"c202206{i + 26}\" for i in range(5)],\n",
    "    *[f\"c202207{i + 27}\" for i in range(5)],\n",
    "]\n",
    "last_5_days_sum = X_model.filter(last_5_days, axis=1).fillna(0).sum(axis=1)\n",
    "# print(last_5_days_sum.head())\n",
    "last_5_days_sum = last_5_days_sum.sort_values(ascending=False)\n",
    "# print(last_5_days_sum.index)\n",
    "\n",
    "# Define scaler\n",
    "# print(\"Defining scaler...\")\n",
    "# scaler = MinMaxScaler(feature_range=(0,1))\n",
    "\n",
    "# Define preprocessors\n",
    "print(\"Defining preprocessors...\")\n",
    "def column(colnames: List[str]):\n",
    "    def _column(X: pd.DataFrame):\n",
    "        X = X.fillna(0)\n",
    "        return [\n",
    "            [colname, X[colname].values] for colname in colnames\n",
    "        ]\n",
    "    return _column\n",
    "\n",
    "def rangesum(\n",
    "    name:str, \n",
    "    regex: str, \n",
    "    prefixes: str, \n",
    "    dist: np.ndarray\n",
    "):\n",
    "    def _rangesum(X: pd.DataFrame):\n",
    "        X = X.fillna(0)\n",
    "        return [\n",
    "            [\n",
    "                prefix + name, \n",
    "                X.filter(regex=(prefix + regex), axis=1).values.dot(dist)\n",
    "            ] for prefix in prefixes\n",
    "        ]\n",
    "    return _rangesum\n",
    "\n",
    "def rangesum_from_list(\n",
    "    name: str, \n",
    "    namelist: List[str], \n",
    "    prefix: str,\n",
    "    dist: np.ndarray,    \n",
    "):\n",
    "    def _rangesum_from_list(X: pd.DataFrame):\n",
    "        X = X.fillna(0)\n",
    "        return [\n",
    "            [\n",
    "                prefix + name, \n",
    "                X[namelist].values.dot(dist)\n",
    "            ]\n",
    "        ]\n",
    "    return _rangesum_from_list\n",
    "\n",
    "def _fillna(X: np.ndarray) -> np.ndarray:\n",
    "    return np.nan_to_num(X, copy=True, nan=0)\n",
    "\n",
    "def array_divide(\n",
    "    numerator: List[Tuple[str, np.ndarray]], \n",
    "    denominator: List[Tuple[str, np.ndarray]]\n",
    ") -> List[Any]:\n",
    "    assert len(numerator) == len(denominator)\n",
    "    return [\n",
    "        [\n",
    "            \"r\" + numerator_colname, \n",
    "            _fillna(np.divide(numerator_col, denominator_col))\n",
    "        ] for [numerator_colname, numerator_col], [_, denominator_col] in zip(numerator, denominator)\n",
    "    ]\n",
    "\n",
    "def one_hot_encode(column: str) -> pd.DataFrame:\n",
    "    def _one_hot_encode(X: pd.DataFrame):\n",
    "        X = X.fillna(0)\n",
    "        df_dummies = pd.get_dummies(X[column], prefix=column)\n",
    "        return [\n",
    "            [colname, df_dummies[colname].values] for colname in df_dummies.columns\n",
    "        ]\n",
    "    return _one_hot_encode\n",
    "\n",
    "def preprocess(X: pd.DataFrame, processors: List[Any]) -> pd.DataFrame:\n",
    "    X_new = pd.DataFrame()\n",
    "\n",
    "    for processor in processors:\n",
    "        for colname, col in processor if type(processor) == type([]) else processor(X):\n",
    "            X_new[colname] = col\n",
    "\n",
    "    X_new = X_new.fillna(0)\n",
    "\n",
    "#     X_new = pd.DataFrame(scaler.fit_transform(X_new), columns=X_new.columns)\n",
    "\n",
    "    return X_new\n",
    "\n",
    "def equal_dist(length: int) -> np.ndarray:\n",
    "    return np.ones(length)\n",
    "\n",
    "def linear_dist(length: int) -> np.ndarray:\n",
    "    return np.arange(start=0, stop=1, step=1/length)\n",
    "\n",
    "def triangle_dist(length: int) -> np.ndarray:\n",
    "    return np.concatenate(\n",
    "        [\n",
    "            np.arange(start=0, stop=1, step=1/length),\n",
    "            np.arange(start=1, stop=0, step=-1/length)\n",
    "        ]\n",
    "    )"
   ]
  },
  {
   "cell_type": "code",
   "execution_count": 4,
   "id": "e4bea1d0",
   "metadata": {},
   "outputs": [],
   "source": [
    "# Get columns of \"c\" prefix of last 5 days of month\n",
    "last_5_days = [\n",
    "    *[f\"c202201{i + 27}\" for i in range(5)],\n",
    "    *[f\"c202202{i + 24}\" for i in range(5)],\n",
    "    *[f\"c202203{i + 27}\" for i in range(5)],\n",
    "    *[f\"c202204{i + 26}\" for i in range(5)],\n",
    "    *[f\"c202205{i + 27}\" for i in range(5)],\n",
    "    *[f\"c202206{i + 26}\" for i in range(5)],\n",
    "    *[f\"c202207{i + 27}\" for i in range(5)],\n",
    "]\n",
    "last_5_days_sum = X_model.filter(last_5_days, axis=1).fillna(0).sum(axis=1)\n",
    "last5_code = np.array(last_5_days_sum)\n",
    "last_5_days_sum_list =[]\n",
    "last_5_days_sum_list.append(['last_5_days_sum',last5_code])"
   ]
  },
  {
   "cell_type": "code",
   "execution_count": 5,
   "id": "b586d3fa",
   "metadata": {},
   "outputs": [
    {
     "name": "stdout",
     "output_type": "stream",
     "text": [
      "Data preprocessing...\n"
     ]
    },
    {
     "data": {
      "text/html": [
       "<div>\n",
       "<style scoped>\n",
       "    .dataframe tbody tr th:only-of-type {\n",
       "        vertical-align: middle;\n",
       "    }\n",
       "\n",
       "    .dataframe tbody tr th {\n",
       "        vertical-align: top;\n",
       "    }\n",
       "\n",
       "    .dataframe thead th {\n",
       "        text-align: right;\n",
       "    }\n",
       "</style>\n",
       "<table border=\"1\" class=\"dataframe\">\n",
       "  <thead>\n",
       "    <tr style=\"text-align: right;\">\n",
       "      <th></th>\n",
       "      <th>gender</th>\n",
       "      <th>age_code</th>\n",
       "      <th>region_code</th>\n",
       "      <th>cGIT</th>\n",
       "      <th>tGIT</th>\n",
       "      <th>sGIT</th>\n",
       "      <th>tVAT</th>\n",
       "      <th>sVAT</th>\n",
       "      <th>cEntire</th>\n",
       "      <th>tEntire</th>\n",
       "      <th>sEntire</th>\n",
       "      <th>last_5_days_sum</th>\n",
       "    </tr>\n",
       "  </thead>\n",
       "  <tbody>\n",
       "    <tr>\n",
       "      <th>0</th>\n",
       "      <td>13</td>\n",
       "      <td>13</td>\n",
       "      <td>7</td>\n",
       "      <td>0.0</td>\n",
       "      <td>0.0</td>\n",
       "      <td>0.0</td>\n",
       "      <td>0.0</td>\n",
       "      <td>0.0</td>\n",
       "      <td>1.0</td>\n",
       "      <td>1.0</td>\n",
       "      <td>93.0</td>\n",
       "      <td>0.0</td>\n",
       "    </tr>\n",
       "    <tr>\n",
       "      <th>1</th>\n",
       "      <td>5</td>\n",
       "      <td>5</td>\n",
       "      <td>1</td>\n",
       "      <td>2.0</td>\n",
       "      <td>0.0</td>\n",
       "      <td>17.0</td>\n",
       "      <td>0.0</td>\n",
       "      <td>185.0</td>\n",
       "      <td>39.0</td>\n",
       "      <td>0.0</td>\n",
       "      <td>790.0</td>\n",
       "      <td>4.0</td>\n",
       "    </tr>\n",
       "    <tr>\n",
       "      <th>2</th>\n",
       "      <td>6</td>\n",
       "      <td>6</td>\n",
       "      <td>2</td>\n",
       "      <td>6.0</td>\n",
       "      <td>3.0</td>\n",
       "      <td>2253.0</td>\n",
       "      <td>0.0</td>\n",
       "      <td>1712.0</td>\n",
       "      <td>26.0</td>\n",
       "      <td>3.0</td>\n",
       "      <td>5119.0</td>\n",
       "      <td>0.0</td>\n",
       "    </tr>\n",
       "  </tbody>\n",
       "</table>\n",
       "</div>"
      ],
      "text/plain": [
       "   gender  age_code  region_code  cGIT  tGIT    sGIT  tVAT    sVAT  cEntire  \\\n",
       "0      13        13            7   0.0   0.0     0.0   0.0     0.0      1.0   \n",
       "1       5         5            1   2.0   0.0    17.0   0.0   185.0     39.0   \n",
       "2       6         6            2   6.0   3.0  2253.0   0.0  1712.0     26.0   \n",
       "\n",
       "   tEntire  sEntire  last_5_days_sum  \n",
       "0      1.0     93.0              0.0  \n",
       "1      0.0    790.0              4.0  \n",
       "2      3.0   5119.0              0.0  "
      ]
     },
     "execution_count": 5,
     "metadata": {},
     "output_type": "execute_result"
    }
   ],
   "source": [
    "print(\"Data preprocessing...\")\n",
    "dist_GIT = rangesum(\n",
    "    'GIT', \n",
    "    r\"202205[0-9]{2}\", \n",
    "    \"cts\", \n",
    "    equal_dist(31)\n",
    ")(X_model)\n",
    "dist_VAT = rangesum(\n",
    "    'VAT', \n",
    "    r\"20220[17](?:[01][0-9]|2[0-5])\", \n",
    "    \"ts\", \n",
    "    np.concatenate((equal_dist(25), equal_dist(25)))\n",
    ")(X_model)\n",
    "entire_days = 31 + 29 + 31 + 30 + 31 + 30 + 31 + 25\n",
    "entire = rangesum(\n",
    "    'Entire', \n",
    "    r\"2022[0-9]{4}\", \n",
    "    \"cts\", \n",
    "    equal_dist(entire_days)\n",
    ")(X_model)\n",
    "\n",
    "age_code = np.array(X_model['age_code'])\n",
    "gender_code = np.array(X_model['gender'])\n",
    "region_code = np.array(X_model['region_code'])\n",
    "cat_Featrues = []\n",
    "cat_Featrues.append(['gender',age_code])\n",
    "cat_Featrues.append(['age_code',age_code])\n",
    "cat_Featrues.append(['region_code',region_code])\n",
    "\n",
    "X_processed = preprocess(\n",
    "    X_model, \n",
    "    [\n",
    "        cat_Featrues,\n",
    "        dist_GIT,\n",
    "        dist_VAT,\n",
    "        entire,\n",
    "        last_5_days_sum_list\n",
    "        # array_divide(dist_GIT, entire), # rel_GIT\n",
    "        # array_divide(dist_VAT, entire[1:]), # rel_VAT\n",
    "    ]\n",
    ")\n",
    "X_processed.head(3)"
   ]
  },
  {
   "cell_type": "code",
   "execution_count": 9,
   "id": "a835d0eb",
   "metadata": {},
   "outputs": [],
   "source": [
    "Mix = pd.concat([X_processed,Y_model],axis=1)"
   ]
  },
  {
   "cell_type": "code",
   "execution_count": 13,
   "id": "172ad94c",
   "metadata": {},
   "outputs": [
    {
     "data": {
      "image/png": "[encoded data removed]",
      "text/plain": [
       "<Figure size 432x288 with 1 Axes>"
      ]
     },
     "metadata": {
      "needs_background": "light"
     },
     "output_type": "display_data"
    }
   ],
   "source": [
    "plt.scatter(Mix['last_5_days_sum'],Mix['business'])\n",
    "plt.show()"
   ]
  },
  {
   "cell_type": "code",
   "execution_count": 21,
   "id": "4cc6e543",
   "metadata": {},
   "outputs": [],
   "source": [
    "a = Mix[(Mix['last_5_days_sum']>1000) & (Mix['business']==1)].index"
   ]
  },
  {
   "cell_type": "code",
   "execution_count": 22,
   "id": "ee81e7aa",
   "metadata": {},
   "outputs": [],
   "source": [
    "Mix = Mix.drop(a)"
   ]
  },
  {
   "cell_type": "code",
   "execution_count": 24,
   "id": "e7395952",
   "metadata": {},
   "outputs": [
    {
     "data": {
      "image/png": "[encoded data removed]",
      "text/plain": [
       "<Figure size 432x288 with 1 Axes>"
      ]
     },
     "metadata": {
      "needs_background": "light"
     },
     "output_type": "display_data"
    }
   ],
   "source": [
    "plt.scatter(Mix['cGIT'],Mix['business'])\n",
    "plt.show()"
   ]
  },
  {
   "cell_type": "code",
   "execution_count": 25,
   "id": "c1d1d682",
   "metadata": {},
   "outputs": [],
   "source": [
    "b = Mix[(Mix['cGIT']>450) & (Mix['business']==1)].index\n",
    "Mix = Mix.drop(b)"
   ]
  },
  {
   "cell_type": "code",
   "execution_count": 27,
   "id": "3142bf52",
   "metadata": {},
   "outputs": [
    {
     "data": {
      "image/png": "[encoded data removed]",
      "text/plain": [
       "<Figure size 432x288 with 1 Axes>"
      ]
     },
     "metadata": {
      "needs_background": "light"
     },
     "output_type": "display_data"
    }
   ],
   "source": [
    "plt.scatter(Mix['tGIT'],Mix['business'])\n",
    "plt.show()"
   ]
  },
  {
   "cell_type": "code",
   "execution_count": 28,
   "id": "3ec0c3cc",
   "metadata": {},
   "outputs": [],
   "source": [
    "c= Mix[(Mix['tGIT']>500) & (Mix['business']==0)].index\n",
    "Mix = Mix.drop(c)"
   ]
  },
  {
   "cell_type": "code",
   "execution_count": 29,
   "id": "ae1f6312",
   "metadata": {},
   "outputs": [
    {
     "data": {
      "image/png": "[encoded data removed]",
      "text/plain": [
       "<Figure size 432x288 with 1 Axes>"
      ]
     },
     "metadata": {
      "needs_background": "light"
     },
     "output_type": "display_data"
    }
   ],
   "source": [
    "plt.scatter(Mix['tGIT'],Mix['business'])\n",
    "plt.show()"
   ]
  },
  {
   "cell_type": "code",
   "execution_count": 30,
   "id": "7228f03a",
   "metadata": {},
   "outputs": [],
   "source": [
    "d= Mix[(Mix['tGIT']>350) & (Mix['business']==1)].index\n",
    "Mix = Mix.drop(d)"
   ]
  },
  {
   "cell_type": "code",
   "execution_count": 32,
   "id": "0a8b6afe",
   "metadata": {},
   "outputs": [
    {
     "data": {
      "image/png": "[encoded data removed]",
      "text/plain": [
       "<Figure size 432x288 with 1 Axes>"
      ]
     },
     "metadata": {
      "needs_background": "light"
     },
     "output_type": "display_data"
    }
   ],
   "source": [
    "plt.scatter(Mix['sGIT'],Mix['business'])\n",
    "plt.show()"
   ]
  },
  {
   "cell_type": "code",
   "execution_count": 33,
   "id": "efa427c1",
   "metadata": {},
   "outputs": [],
   "source": [
    "e= Mix[(Mix['sGIT']>130000) & (Mix['business']==0)].index\n",
    "Mix = Mix.drop(e)"
   ]
  },
  {
   "cell_type": "code",
   "execution_count": null,
   "id": "f79828e2",
   "metadata": {},
   "outputs": [],
   "source": [
    "# tVAT\tsVAT\tcEntire\ttEntire\tsEntire"
   ]
  },
  {
   "cell_type": "code",
   "execution_count": 38,
   "id": "49045448",
   "metadata": {},
   "outputs": [
    {
     "data": {
      "image/png": "[encoded data removed]",
      "text/plain": [
       "<Figure size 432x288 with 1 Axes>"
      ]
     },
     "metadata": {
      "needs_background": "light"
     },
     "output_type": "display_data"
    }
   ],
   "source": [
    "plt.scatter(Mix['sVAT'],Mix['business'])\n",
    "plt.show()"
   ]
  },
  {
   "cell_type": "code",
   "execution_count": 39,
   "id": "5e34dc7d",
   "metadata": {},
   "outputs": [],
   "source": [
    "f= Mix[(Mix['sVAT']>200000) & (Mix['business']==0)].index\n",
    "Mix = Mix.drop(f)"
   ]
  },
  {
   "cell_type": "code",
   "execution_count": 41,
   "id": "f480364d",
   "metadata": {},
   "outputs": [],
   "source": [
    "g= Mix[(Mix['sVAT']>120000) & (Mix['business']==1)].index\n",
    "Mix = Mix.drop(g)"
   ]
  },
  {
   "cell_type": "code",
   "execution_count": 44,
   "id": "2fb28a33",
   "metadata": {},
   "outputs": [
    {
     "data": {
      "image/png": "[encoded data removed]",
      "text/plain": [
       "<Figure size 432x288 with 1 Axes>"
      ]
     },
     "metadata": {
      "needs_background": "light"
     },
     "output_type": "display_data"
    }
   ],
   "source": [
    "plt.scatter(Mix['sEntire'],Mix['business'])\n",
    "plt.show()"
   ]
  },
  {
   "cell_type": "code",
   "execution_count": 45,
   "id": "4dc9e5ee",
   "metadata": {},
   "outputs": [],
   "source": [
    "h = Mix[(Mix['sEntire']>800000) & (Mix['business']==0)].index\n",
    "Mix = Mix.drop(h)"
   ]
  },
  {
   "cell_type": "code",
   "execution_count": 47,
   "id": "3dcafaff",
   "metadata": {},
   "outputs": [
    {
     "data": {
      "text/plain": [
       "(799986, 13)"
      ]
     },
     "execution_count": 47,
     "metadata": {},
     "output_type": "execute_result"
    }
   ],
   "source": [
    "Mix.shape # removed 14 outliers"
   ]
  },
  {
   "cell_type": "code",
   "execution_count": 68,
   "id": "be9f290f",
   "metadata": {},
   "outputs": [],
   "source": [
    "X_processed = Mix.loc[:,'gender':'last_5_days_sum']\n",
    "Y_model = Mix['business']"
   ]
  },
  {
   "cell_type": "code",
   "execution_count": 69,
   "id": "d826009c",
   "metadata": {
    "scrolled": true
   },
   "outputs": [
    {
     "name": "stdout",
     "output_type": "stream",
     "text": [
      "Preparing for hyperparameter tuning...\n",
      "Hyperparameter tuning started...\n",
      "[LightGBM] [Warning] min_data_in_leaf is set=260, min_child_samples=20 will be ignored. Current value: min_data_in_leaf=260\n",
      "[LightGBM] [Warning] lambda_l1 is set=7.843173612137413, reg_alpha=0.0 will be ignored. Current value: lambda_l1=7.843173612137413\n",
      "[LightGBM] [Warning] bagging_fraction is set=0.022948082497939448, subsample=1.0 will be ignored. Current value: bagging_fraction=0.022948082497939448\n",
      "[LightGBM] [Warning] lambda_l2 is set=0.6593129362720613, reg_lambda=0.0 will be ignored. Current value: lambda_l2=0.6593129362720613\n",
      "[LightGBM] [Warning] min_data_in_leaf is set=260, min_child_samples=20 will be ignored. Current value: min_data_in_leaf=260\n",
      "[LightGBM] [Warning] lambda_l1 is set=7.843173612137413, reg_alpha=0.0 will be ignored. Current value: lambda_l1=7.843173612137413\n",
      "[LightGBM] [Warning] bagging_fraction is set=0.022948082497939448, subsample=1.0 will be ignored. Current value: bagging_fraction=0.022948082497939448\n",
      "[LightGBM] [Warning] lambda_l2 is set=0.6593129362720613, reg_lambda=0.0 will be ignored. Current value: lambda_l2=0.6593129362720613\n",
      "[LightGBM] [Warning] min_data_in_leaf is set=260, min_child_samples=20 will be ignored. Current value: min_data_in_leaf=260\n",
      "[LightGBM] [Warning] lambda_l1 is set=7.843173612137413, reg_alpha=0.0 will be ignored. Current value: lambda_l1=7.843173612137413\n",
      "[LightGBM] [Warning] bagging_fraction is set=0.022948082497939448, subsample=1.0 will be ignored. Current value: bagging_fraction=0.022948082497939448\n",
      "[LightGBM] [Warning] lambda_l2 is set=0.6593129362720613, reg_lambda=0.0 will be ignored. Current value: lambda_l2=0.6593129362720613\n",
      "[LightGBM] [Warning] min_data_in_leaf is set=260, min_child_samples=20 will be ignored. Current value: min_data_in_leaf=260\n",
      "[LightGBM] [Warning] lambda_l1 is set=7.843173612137413, reg_alpha=0.0 will be ignored. Current value: lambda_l1=7.843173612137413\n",
      "[LightGBM] [Warning] bagging_fraction is set=0.022948082497939448, subsample=1.0 will be ignored. Current value: bagging_fraction=0.022948082497939448\n",
      "[LightGBM] [Warning] lambda_l2 is set=0.6593129362720613, reg_lambda=0.0 will be ignored. Current value: lambda_l2=0.6593129362720613\n",
      "[LightGBM] [Warning] min_data_in_leaf is set=260, min_child_samples=20 will be ignored. Current value: min_data_in_leaf=260\n",
      "[LightGBM] [Warning] lambda_l1 is set=7.843173612137413, reg_alpha=0.0 will be ignored. Current value: lambda_l1=7.843173612137413\n",
      "[LightGBM] [Warning] bagging_fraction is set=0.022948082497939448, subsample=1.0 will be ignored. Current value: bagging_fraction=0.022948082497939448\n",
      "[LightGBM] [Warning] lambda_l2 is set=0.6593129362720613, reg_lambda=0.0 will be ignored. Current value: lambda_l2=0.6593129362720613\n",
      "[LightGBM] [Warning] min_data_in_leaf is set=787, min_child_samples=20 will be ignored. Current value: min_data_in_leaf=787\n",
      "[LightGBM] [Warning] lambda_l1 is set=5.83117796290999, reg_alpha=0.0 will be ignored. Current value: lambda_l1=5.83117796290999\n",
      "[LightGBM] [Warning] bagging_fraction is set=0.45991604941763853, subsample=1.0 will be ignored. Current value: bagging_fraction=0.45991604941763853\n",
      "[LightGBM] [Warning] lambda_l2 is set=0.00476627910309248, reg_lambda=0.0 will be ignored. Current value: lambda_l2=0.00476627910309248\n",
      "[LightGBM] [Warning] min_data_in_leaf is set=787, min_child_samples=20 will be ignored. Current value: min_data_in_leaf=787\n",
      "[LightGBM] [Warning] lambda_l1 is set=5.83117796290999, reg_alpha=0.0 will be ignored. Current value: lambda_l1=5.83117796290999\n",
      "[LightGBM] [Warning] bagging_fraction is set=0.45991604941763853, subsample=1.0 will be ignored. Current value: bagging_fraction=0.45991604941763853\n",
      "[LightGBM] [Warning] lambda_l2 is set=0.00476627910309248, reg_lambda=0.0 will be ignored. Current value: lambda_l2=0.00476627910309248\n",
      "[LightGBM] [Warning] min_data_in_leaf is set=787, min_child_samples=20 will be ignored. Current value: min_data_in_leaf=787\n",
      "[LightGBM] [Warning] lambda_l1 is set=5.83117796290999, reg_alpha=0.0 will be ignored. Current value: lambda_l1=5.83117796290999\n",
      "[LightGBM] [Warning] bagging_fraction is set=0.45991604941763853, subsample=1.0 will be ignored. Current value: bagging_fraction=0.45991604941763853\n",
      "[LightGBM] [Warning] lambda_l2 is set=0.00476627910309248, reg_lambda=0.0 will be ignored. Current value: lambda_l2=0.00476627910309248\n",
      "[LightGBM] [Warning] min_data_in_leaf is set=787, min_child_samples=20 will be ignored. Current value: min_data_in_leaf=787\n",
      "[LightGBM] [Warning] lambda_l1 is set=5.83117796290999, reg_alpha=0.0 will be ignored. Current value: lambda_l1=5.83117796290999\n",
      "[LightGBM] [Warning] bagging_fraction is set=0.45991604941763853, subsample=1.0 will be ignored. Current value: bagging_fraction=0.45991604941763853\n",
      "[LightGBM] [Warning] lambda_l2 is set=0.00476627910309248, reg_lambda=0.0 will be ignored. Current value: lambda_l2=0.00476627910309248\n",
      "[LightGBM] [Warning] min_data_in_leaf is set=787, min_child_samples=20 will be ignored. Current value: min_data_in_leaf=787\n",
      "[LightGBM] [Warning] lambda_l1 is set=5.83117796290999, reg_alpha=0.0 will be ignored. Current value: lambda_l1=5.83117796290999\n",
      "[LightGBM] [Warning] bagging_fraction is set=0.45991604941763853, subsample=1.0 will be ignored. Current value: bagging_fraction=0.45991604941763853\n",
      "[LightGBM] [Warning] lambda_l2 is set=0.00476627910309248, reg_lambda=0.0 will be ignored. Current value: lambda_l2=0.00476627910309248\n",
      "[LightGBM] [Warning] min_data_in_leaf is set=184, min_child_samples=20 will be ignored. Current value: min_data_in_leaf=184\n",
      "[LightGBM] [Warning] lambda_l1 is set=0.4837061927229358, reg_alpha=0.0 will be ignored. Current value: lambda_l1=0.4837061927229358\n",
      "[LightGBM] [Warning] bagging_fraction is set=0.09296481027973147, subsample=1.0 will be ignored. Current value: bagging_fraction=0.09296481027973147\n",
      "[LightGBM] [Warning] lambda_l2 is set=0.07186129517373968, reg_lambda=0.0 will be ignored. Current value: lambda_l2=0.07186129517373968\n",
      "[LightGBM] [Warning] min_data_in_leaf is set=184, min_child_samples=20 will be ignored. Current value: min_data_in_leaf=184\n",
      "[LightGBM] [Warning] lambda_l1 is set=0.4837061927229358, reg_alpha=0.0 will be ignored. Current value: lambda_l1=0.4837061927229358\n",
      "[LightGBM] [Warning] bagging_fraction is set=0.09296481027973147, subsample=1.0 will be ignored. Current value: bagging_fraction=0.09296481027973147\n",
      "[LightGBM] [Warning] lambda_l2 is set=0.07186129517373968, reg_lambda=0.0 will be ignored. Current value: lambda_l2=0.07186129517373968\n",
      "[LightGBM] [Warning] min_data_in_leaf is set=184, min_child_samples=20 will be ignored. Current value: min_data_in_leaf=184\n",
      "[LightGBM] [Warning] lambda_l1 is set=0.4837061927229358, reg_alpha=0.0 will be ignored. Current value: lambda_l1=0.4837061927229358\n",
      "[LightGBM] [Warning] bagging_fraction is set=0.09296481027973147, subsample=1.0 will be ignored. Current value: bagging_fraction=0.09296481027973147\n",
      "[LightGBM] [Warning] lambda_l2 is set=0.07186129517373968, reg_lambda=0.0 will be ignored. Current value: lambda_l2=0.07186129517373968\n",
      "[LightGBM] [Warning] min_data_in_leaf is set=184, min_child_samples=20 will be ignored. Current value: min_data_in_leaf=184\n",
      "[LightGBM] [Warning] lambda_l1 is set=0.4837061927229358, reg_alpha=0.0 will be ignored. Current value: lambda_l1=0.4837061927229358\n",
      "[LightGBM] [Warning] bagging_fraction is set=0.09296481027973147, subsample=1.0 will be ignored. Current value: bagging_fraction=0.09296481027973147\n",
      "[LightGBM] [Warning] lambda_l2 is set=0.07186129517373968, reg_lambda=0.0 will be ignored. Current value: lambda_l2=0.07186129517373968\n",
      "[LightGBM] [Warning] min_data_in_leaf is set=184, min_child_samples=20 will be ignored. Current value: min_data_in_leaf=184\n",
      "[LightGBM] [Warning] lambda_l1 is set=0.4837061927229358, reg_alpha=0.0 will be ignored. Current value: lambda_l1=0.4837061927229358\n",
      "[LightGBM] [Warning] bagging_fraction is set=0.09296481027973147, subsample=1.0 will be ignored. Current value: bagging_fraction=0.09296481027973147\n",
      "[LightGBM] [Warning] lambda_l2 is set=0.07186129517373968, reg_lambda=0.0 will be ignored. Current value: lambda_l2=0.07186129517373968\n",
      "[LightGBM] [Warning] min_data_in_leaf is set=407, min_child_samples=20 will be ignored. Current value: min_data_in_leaf=407\n",
      "[LightGBM] [Warning] lambda_l1 is set=3.292586379759932, reg_alpha=0.0 will be ignored. Current value: lambda_l1=3.292586379759932\n",
      "[LightGBM] [Warning] bagging_fraction is set=0.0030223516811503925, subsample=1.0 will be ignored. Current value: bagging_fraction=0.0030223516811503925\n",
      "[LightGBM] [Warning] lambda_l2 is set=6.373511544722731, reg_lambda=0.0 will be ignored. Current value: lambda_l2=6.373511544722731\n"
     ]
    },
    {
     "name": "stdout",
     "output_type": "stream",
     "text": [
      "[LightGBM] [Warning] min_data_in_leaf is set=407, min_child_samples=20 will be ignored. Current value: min_data_in_leaf=407\n",
      "[LightGBM] [Warning] lambda_l1 is set=3.292586379759932, reg_alpha=0.0 will be ignored. Current value: lambda_l1=3.292586379759932\n",
      "[LightGBM] [Warning] bagging_fraction is set=0.0030223516811503925, subsample=1.0 will be ignored. Current value: bagging_fraction=0.0030223516811503925\n",
      "[LightGBM] [Warning] lambda_l2 is set=6.373511544722731, reg_lambda=0.0 will be ignored. Current value: lambda_l2=6.373511544722731\n",
      "[LightGBM] [Warning] min_data_in_leaf is set=407, min_child_samples=20 will be ignored. Current value: min_data_in_leaf=407\n",
      "[LightGBM] [Warning] lambda_l1 is set=3.292586379759932, reg_alpha=0.0 will be ignored. Current value: lambda_l1=3.292586379759932\n",
      "[LightGBM] [Warning] bagging_fraction is set=0.0030223516811503925, subsample=1.0 will be ignored. Current value: bagging_fraction=0.0030223516811503925\n",
      "[LightGBM] [Warning] lambda_l2 is set=6.373511544722731, reg_lambda=0.0 will be ignored. Current value: lambda_l2=6.373511544722731\n",
      "[LightGBM] [Warning] min_data_in_leaf is set=407, min_child_samples=20 will be ignored. Current value: min_data_in_leaf=407\n",
      "[LightGBM] [Warning] lambda_l1 is set=3.292586379759932, reg_alpha=0.0 will be ignored. Current value: lambda_l1=3.292586379759932\n",
      "[LightGBM] [Warning] bagging_fraction is set=0.0030223516811503925, subsample=1.0 will be ignored. Current value: bagging_fraction=0.0030223516811503925\n",
      "[LightGBM] [Warning] lambda_l2 is set=6.373511544722731, reg_lambda=0.0 will be ignored. Current value: lambda_l2=6.373511544722731\n",
      "[LightGBM] [Warning] min_data_in_leaf is set=407, min_child_samples=20 will be ignored. Current value: min_data_in_leaf=407\n",
      "[LightGBM] [Warning] lambda_l1 is set=3.292586379759932, reg_alpha=0.0 will be ignored. Current value: lambda_l1=3.292586379759932\n",
      "[LightGBM] [Warning] bagging_fraction is set=0.0030223516811503925, subsample=1.0 will be ignored. Current value: bagging_fraction=0.0030223516811503925\n",
      "[LightGBM] [Warning] lambda_l2 is set=6.373511544722731, reg_lambda=0.0 will be ignored. Current value: lambda_l2=6.373511544722731\n",
      "[LightGBM] [Warning] min_data_in_leaf is set=277, min_child_samples=20 will be ignored. Current value: min_data_in_leaf=277\n",
      "[LightGBM] [Warning] lambda_l1 is set=0.01095476536953513, reg_alpha=0.0 will be ignored. Current value: lambda_l1=0.01095476536953513\n",
      "[LightGBM] [Warning] bagging_fraction is set=0.8612561531331564, subsample=1.0 will be ignored. Current value: bagging_fraction=0.8612561531331564\n",
      "[LightGBM] [Warning] lambda_l2 is set=9.3462461478114, reg_lambda=0.0 will be ignored. Current value: lambda_l2=9.3462461478114\n",
      "[LightGBM] [Warning] min_data_in_leaf is set=277, min_child_samples=20 will be ignored. Current value: min_data_in_leaf=277\n",
      "[LightGBM] [Warning] lambda_l1 is set=0.01095476536953513, reg_alpha=0.0 will be ignored. Current value: lambda_l1=0.01095476536953513\n",
      "[LightGBM] [Warning] bagging_fraction is set=0.8612561531331564, subsample=1.0 will be ignored. Current value: bagging_fraction=0.8612561531331564\n",
      "[LightGBM] [Warning] lambda_l2 is set=9.3462461478114, reg_lambda=0.0 will be ignored. Current value: lambda_l2=9.3462461478114\n",
      "[LightGBM] [Warning] min_data_in_leaf is set=277, min_child_samples=20 will be ignored. Current value: min_data_in_leaf=277\n",
      "[LightGBM] [Warning] lambda_l1 is set=0.01095476536953513, reg_alpha=0.0 will be ignored. Current value: lambda_l1=0.01095476536953513\n",
      "[LightGBM] [Warning] bagging_fraction is set=0.8612561531331564, subsample=1.0 will be ignored. Current value: bagging_fraction=0.8612561531331564\n",
      "[LightGBM] [Warning] lambda_l2 is set=9.3462461478114, reg_lambda=0.0 will be ignored. Current value: lambda_l2=9.3462461478114\n",
      "[LightGBM] [Warning] min_data_in_leaf is set=277, min_child_samples=20 will be ignored. Current value: min_data_in_leaf=277\n",
      "[LightGBM] [Warning] lambda_l1 is set=0.01095476536953513, reg_alpha=0.0 will be ignored. Current value: lambda_l1=0.01095476536953513\n",
      "[LightGBM] [Warning] bagging_fraction is set=0.8612561531331564, subsample=1.0 will be ignored. Current value: bagging_fraction=0.8612561531331564\n",
      "[LightGBM] [Warning] lambda_l2 is set=9.3462461478114, reg_lambda=0.0 will be ignored. Current value: lambda_l2=9.3462461478114\n",
      "[LightGBM] [Warning] min_data_in_leaf is set=277, min_child_samples=20 will be ignored. Current value: min_data_in_leaf=277\n",
      "[LightGBM] [Warning] lambda_l1 is set=0.01095476536953513, reg_alpha=0.0 will be ignored. Current value: lambda_l1=0.01095476536953513\n",
      "[LightGBM] [Warning] bagging_fraction is set=0.8612561531331564, subsample=1.0 will be ignored. Current value: bagging_fraction=0.8612561531331564\n",
      "[LightGBM] [Warning] lambda_l2 is set=9.3462461478114, reg_lambda=0.0 will be ignored. Current value: lambda_l2=9.3462461478114\n",
      "[LightGBM] [Warning] min_data_in_leaf is set=866, min_child_samples=20 will be ignored. Current value: min_data_in_leaf=866\n",
      "[LightGBM] [Warning] lambda_l1 is set=1.6429924933652331, reg_alpha=0.0 will be ignored. Current value: lambda_l1=1.6429924933652331\n",
      "[LightGBM] [Warning] bagging_fraction is set=0.5859986794444407, subsample=1.0 will be ignored. Current value: bagging_fraction=0.5859986794444407\n",
      "[LightGBM] [Warning] lambda_l2 is set=0.0022005039885180434, reg_lambda=0.0 will be ignored. Current value: lambda_l2=0.0022005039885180434\n",
      "[LightGBM] [Warning] min_data_in_leaf is set=866, min_child_samples=20 will be ignored. Current value: min_data_in_leaf=866\n",
      "[LightGBM] [Warning] lambda_l1 is set=1.6429924933652331, reg_alpha=0.0 will be ignored. Current value: lambda_l1=1.6429924933652331\n",
      "[LightGBM] [Warning] bagging_fraction is set=0.5859986794444407, subsample=1.0 will be ignored. Current value: bagging_fraction=0.5859986794444407\n",
      "[LightGBM] [Warning] lambda_l2 is set=0.0022005039885180434, reg_lambda=0.0 will be ignored. Current value: lambda_l2=0.0022005039885180434\n",
      "[LightGBM] [Warning] min_data_in_leaf is set=866, min_child_samples=20 will be ignored. Current value: min_data_in_leaf=866\n",
      "[LightGBM] [Warning] lambda_l1 is set=1.6429924933652331, reg_alpha=0.0 will be ignored. Current value: lambda_l1=1.6429924933652331\n",
      "[LightGBM] [Warning] bagging_fraction is set=0.5859986794444407, subsample=1.0 will be ignored. Current value: bagging_fraction=0.5859986794444407\n",
      "[LightGBM] [Warning] lambda_l2 is set=0.0022005039885180434, reg_lambda=0.0 will be ignored. Current value: lambda_l2=0.0022005039885180434\n",
      "[LightGBM] [Warning] min_data_in_leaf is set=866, min_child_samples=20 will be ignored. Current value: min_data_in_leaf=866\n",
      "[LightGBM] [Warning] lambda_l1 is set=1.6429924933652331, reg_alpha=0.0 will be ignored. Current value: lambda_l1=1.6429924933652331\n",
      "[LightGBM] [Warning] bagging_fraction is set=0.5859986794444407, subsample=1.0 will be ignored. Current value: bagging_fraction=0.5859986794444407\n",
      "[LightGBM] [Warning] lambda_l2 is set=0.0022005039885180434, reg_lambda=0.0 will be ignored. Current value: lambda_l2=0.0022005039885180434\n",
      "[LightGBM] [Warning] min_data_in_leaf is set=866, min_child_samples=20 will be ignored. Current value: min_data_in_leaf=866\n",
      "[LightGBM] [Warning] lambda_l1 is set=1.6429924933652331, reg_alpha=0.0 will be ignored. Current value: lambda_l1=1.6429924933652331\n",
      "[LightGBM] [Warning] bagging_fraction is set=0.5859986794444407, subsample=1.0 will be ignored. Current value: bagging_fraction=0.5859986794444407\n",
      "[LightGBM] [Warning] lambda_l2 is set=0.0022005039885180434, reg_lambda=0.0 will be ignored. Current value: lambda_l2=0.0022005039885180434\n",
      "[LightGBM] [Warning] min_data_in_leaf is set=824, min_child_samples=20 will be ignored. Current value: min_data_in_leaf=824\n",
      "[LightGBM] [Warning] lambda_l1 is set=1.3244787940505907, reg_alpha=0.0 will be ignored. Current value: lambda_l1=1.3244787940505907\n",
      "[LightGBM] [Warning] bagging_fraction is set=0.24051187527800666, subsample=1.0 will be ignored. Current value: bagging_fraction=0.24051187527800666\n",
      "[LightGBM] [Warning] lambda_l2 is set=0.05968914398392078, reg_lambda=0.0 will be ignored. Current value: lambda_l2=0.05968914398392078\n",
      "[LightGBM] [Warning] min_data_in_leaf is set=824, min_child_samples=20 will be ignored. Current value: min_data_in_leaf=824\n",
      "[LightGBM] [Warning] lambda_l1 is set=1.3244787940505907, reg_alpha=0.0 will be ignored. Current value: lambda_l1=1.3244787940505907\n",
      "[LightGBM] [Warning] bagging_fraction is set=0.24051187527800666, subsample=1.0 will be ignored. Current value: bagging_fraction=0.24051187527800666\n",
      "[LightGBM] [Warning] lambda_l2 is set=0.05968914398392078, reg_lambda=0.0 will be ignored. Current value: lambda_l2=0.05968914398392078\n"
     ]
    },
    {
     "name": "stdout",
     "output_type": "stream",
     "text": [
      "[LightGBM] [Warning] min_data_in_leaf is set=824, min_child_samples=20 will be ignored. Current value: min_data_in_leaf=824\n",
      "[LightGBM] [Warning] lambda_l1 is set=1.3244787940505907, reg_alpha=0.0 will be ignored. Current value: lambda_l1=1.3244787940505907\n",
      "[LightGBM] [Warning] bagging_fraction is set=0.24051187527800666, subsample=1.0 will be ignored. Current value: bagging_fraction=0.24051187527800666\n",
      "[LightGBM] [Warning] lambda_l2 is set=0.05968914398392078, reg_lambda=0.0 will be ignored. Current value: lambda_l2=0.05968914398392078\n",
      "[LightGBM] [Warning] min_data_in_leaf is set=824, min_child_samples=20 will be ignored. Current value: min_data_in_leaf=824\n",
      "[LightGBM] [Warning] lambda_l1 is set=1.3244787940505907, reg_alpha=0.0 will be ignored. Current value: lambda_l1=1.3244787940505907\n",
      "[LightGBM] [Warning] bagging_fraction is set=0.24051187527800666, subsample=1.0 will be ignored. Current value: bagging_fraction=0.24051187527800666\n",
      "[LightGBM] [Warning] lambda_l2 is set=0.05968914398392078, reg_lambda=0.0 will be ignored. Current value: lambda_l2=0.05968914398392078\n",
      "[LightGBM] [Warning] min_data_in_leaf is set=824, min_child_samples=20 will be ignored. Current value: min_data_in_leaf=824\n",
      "[LightGBM] [Warning] lambda_l1 is set=1.3244787940505907, reg_alpha=0.0 will be ignored. Current value: lambda_l1=1.3244787940505907\n",
      "[LightGBM] [Warning] bagging_fraction is set=0.24051187527800666, subsample=1.0 will be ignored. Current value: bagging_fraction=0.24051187527800666\n",
      "[LightGBM] [Warning] lambda_l2 is set=0.05968914398392078, reg_lambda=0.0 will be ignored. Current value: lambda_l2=0.05968914398392078\n",
      "[LightGBM] [Warning] min_data_in_leaf is set=761, min_child_samples=20 will be ignored. Current value: min_data_in_leaf=761\n",
      "[LightGBM] [Warning] lambda_l1 is set=0.146987442309041, reg_alpha=0.0 will be ignored. Current value: lambda_l1=0.146987442309041\n",
      "[LightGBM] [Warning] bagging_fraction is set=0.08242470404598623, subsample=1.0 will be ignored. Current value: bagging_fraction=0.08242470404598623\n",
      "[LightGBM] [Warning] lambda_l2 is set=0.07008727955932678, reg_lambda=0.0 will be ignored. Current value: lambda_l2=0.07008727955932678\n",
      "[LightGBM] [Warning] min_data_in_leaf is set=761, min_child_samples=20 will be ignored. Current value: min_data_in_leaf=761\n",
      "[LightGBM] [Warning] lambda_l1 is set=0.146987442309041, reg_alpha=0.0 will be ignored. Current value: lambda_l1=0.146987442309041\n",
      "[LightGBM] [Warning] bagging_fraction is set=0.08242470404598623, subsample=1.0 will be ignored. Current value: bagging_fraction=0.08242470404598623\n",
      "[LightGBM] [Warning] lambda_l2 is set=0.07008727955932678, reg_lambda=0.0 will be ignored. Current value: lambda_l2=0.07008727955932678\n",
      "[LightGBM] [Warning] min_data_in_leaf is set=761, min_child_samples=20 will be ignored. Current value: min_data_in_leaf=761\n",
      "[LightGBM] [Warning] lambda_l1 is set=0.146987442309041, reg_alpha=0.0 will be ignored. Current value: lambda_l1=0.146987442309041\n",
      "[LightGBM] [Warning] bagging_fraction is set=0.08242470404598623, subsample=1.0 will be ignored. Current value: bagging_fraction=0.08242470404598623\n",
      "[LightGBM] [Warning] lambda_l2 is set=0.07008727955932678, reg_lambda=0.0 will be ignored. Current value: lambda_l2=0.07008727955932678\n",
      "[LightGBM] [Warning] min_data_in_leaf is set=761, min_child_samples=20 will be ignored. Current value: min_data_in_leaf=761\n",
      "[LightGBM] [Warning] lambda_l1 is set=0.146987442309041, reg_alpha=0.0 will be ignored. Current value: lambda_l1=0.146987442309041\n",
      "[LightGBM] [Warning] bagging_fraction is set=0.08242470404598623, subsample=1.0 will be ignored. Current value: bagging_fraction=0.08242470404598623\n",
      "[LightGBM] [Warning] lambda_l2 is set=0.07008727955932678, reg_lambda=0.0 will be ignored. Current value: lambda_l2=0.07008727955932678\n",
      "[LightGBM] [Warning] min_data_in_leaf is set=761, min_child_samples=20 will be ignored. Current value: min_data_in_leaf=761\n",
      "[LightGBM] [Warning] lambda_l1 is set=0.146987442309041, reg_alpha=0.0 will be ignored. Current value: lambda_l1=0.146987442309041\n",
      "[LightGBM] [Warning] bagging_fraction is set=0.08242470404598623, subsample=1.0 will be ignored. Current value: bagging_fraction=0.08242470404598623\n",
      "[LightGBM] [Warning] lambda_l2 is set=0.07008727955932678, reg_lambda=0.0 will be ignored. Current value: lambda_l2=0.07008727955932678\n",
      "[LightGBM] [Warning] min_data_in_leaf is set=308, min_child_samples=20 will be ignored. Current value: min_data_in_leaf=308\n",
      "[LightGBM] [Warning] lambda_l1 is set=1.0238085837231472, reg_alpha=0.0 will be ignored. Current value: lambda_l1=1.0238085837231472\n",
      "[LightGBM] [Warning] bagging_fraction is set=0.5337778919476753, subsample=1.0 will be ignored. Current value: bagging_fraction=0.5337778919476753\n",
      "[LightGBM] [Warning] lambda_l2 is set=3.4800144918860956, reg_lambda=0.0 will be ignored. Current value: lambda_l2=3.4800144918860956\n",
      "[LightGBM] [Warning] min_data_in_leaf is set=308, min_child_samples=20 will be ignored. Current value: min_data_in_leaf=308\n",
      "[LightGBM] [Warning] lambda_l1 is set=1.0238085837231472, reg_alpha=0.0 will be ignored. Current value: lambda_l1=1.0238085837231472\n",
      "[LightGBM] [Warning] bagging_fraction is set=0.5337778919476753, subsample=1.0 will be ignored. Current value: bagging_fraction=0.5337778919476753\n",
      "[LightGBM] [Warning] lambda_l2 is set=3.4800144918860956, reg_lambda=0.0 will be ignored. Current value: lambda_l2=3.4800144918860956\n",
      "[LightGBM] [Warning] min_data_in_leaf is set=308, min_child_samples=20 will be ignored. Current value: min_data_in_leaf=308\n",
      "[LightGBM] [Warning] lambda_l1 is set=1.0238085837231472, reg_alpha=0.0 will be ignored. Current value: lambda_l1=1.0238085837231472\n",
      "[LightGBM] [Warning] bagging_fraction is set=0.5337778919476753, subsample=1.0 will be ignored. Current value: bagging_fraction=0.5337778919476753\n",
      "[LightGBM] [Warning] lambda_l2 is set=3.4800144918860956, reg_lambda=0.0 will be ignored. Current value: lambda_l2=3.4800144918860956\n",
      "[LightGBM] [Warning] min_data_in_leaf is set=308, min_child_samples=20 will be ignored. Current value: min_data_in_leaf=308\n",
      "[LightGBM] [Warning] lambda_l1 is set=1.0238085837231472, reg_alpha=0.0 will be ignored. Current value: lambda_l1=1.0238085837231472\n",
      "[LightGBM] [Warning] bagging_fraction is set=0.5337778919476753, subsample=1.0 will be ignored. Current value: bagging_fraction=0.5337778919476753\n",
      "[LightGBM] [Warning] lambda_l2 is set=3.4800144918860956, reg_lambda=0.0 will be ignored. Current value: lambda_l2=3.4800144918860956\n",
      "[LightGBM] [Warning] min_data_in_leaf is set=308, min_child_samples=20 will be ignored. Current value: min_data_in_leaf=308\n",
      "[LightGBM] [Warning] lambda_l1 is set=1.0238085837231472, reg_alpha=0.0 will be ignored. Current value: lambda_l1=1.0238085837231472\n",
      "[LightGBM] [Warning] bagging_fraction is set=0.5337778919476753, subsample=1.0 will be ignored. Current value: bagging_fraction=0.5337778919476753\n",
      "[LightGBM] [Warning] lambda_l2 is set=3.4800144918860956, reg_lambda=0.0 will be ignored. Current value: lambda_l2=3.4800144918860956\n",
      "[LightGBM] [Warning] min_data_in_leaf is set=527, min_child_samples=20 will be ignored. Current value: min_data_in_leaf=527\n",
      "[LightGBM] [Warning] lambda_l1 is set=2.1104873859106115, reg_alpha=0.0 will be ignored. Current value: lambda_l1=2.1104873859106115\n",
      "[LightGBM] [Warning] bagging_fraction is set=0.2855998595782262, subsample=1.0 will be ignored. Current value: bagging_fraction=0.2855998595782262\n",
      "[LightGBM] [Warning] lambda_l2 is set=0.0972775381054041, reg_lambda=0.0 will be ignored. Current value: lambda_l2=0.0972775381054041\n",
      "[LightGBM] [Warning] min_data_in_leaf is set=527, min_child_samples=20 will be ignored. Current value: min_data_in_leaf=527\n",
      "[LightGBM] [Warning] lambda_l1 is set=2.1104873859106115, reg_alpha=0.0 will be ignored. Current value: lambda_l1=2.1104873859106115\n",
      "[LightGBM] [Warning] bagging_fraction is set=0.2855998595782262, subsample=1.0 will be ignored. Current value: bagging_fraction=0.2855998595782262\n",
      "[LightGBM] [Warning] lambda_l2 is set=0.0972775381054041, reg_lambda=0.0 will be ignored. Current value: lambda_l2=0.0972775381054041\n",
      "[LightGBM] [Warning] min_data_in_leaf is set=527, min_child_samples=20 will be ignored. Current value: min_data_in_leaf=527\n",
      "[LightGBM] [Warning] lambda_l1 is set=2.1104873859106115, reg_alpha=0.0 will be ignored. Current value: lambda_l1=2.1104873859106115\n",
      "[LightGBM] [Warning] bagging_fraction is set=0.2855998595782262, subsample=1.0 will be ignored. Current value: bagging_fraction=0.2855998595782262\n",
      "[LightGBM] [Warning] lambda_l2 is set=0.0972775381054041, reg_lambda=0.0 will be ignored. Current value: lambda_l2=0.0972775381054041\n"
     ]
    },
    {
     "name": "stdout",
     "output_type": "stream",
     "text": [
      "[LightGBM] [Warning] min_data_in_leaf is set=527, min_child_samples=20 will be ignored. Current value: min_data_in_leaf=527\n",
      "[LightGBM] [Warning] lambda_l1 is set=2.1104873859106115, reg_alpha=0.0 will be ignored. Current value: lambda_l1=2.1104873859106115\n",
      "[LightGBM] [Warning] bagging_fraction is set=0.2855998595782262, subsample=1.0 will be ignored. Current value: bagging_fraction=0.2855998595782262\n",
      "[LightGBM] [Warning] lambda_l2 is set=0.0972775381054041, reg_lambda=0.0 will be ignored. Current value: lambda_l2=0.0972775381054041\n",
      "[LightGBM] [Warning] min_data_in_leaf is set=527, min_child_samples=20 will be ignored. Current value: min_data_in_leaf=527\n",
      "[LightGBM] [Warning] lambda_l1 is set=2.1104873859106115, reg_alpha=0.0 will be ignored. Current value: lambda_l1=2.1104873859106115\n",
      "[LightGBM] [Warning] bagging_fraction is set=0.2855998595782262, subsample=1.0 will be ignored. Current value: bagging_fraction=0.2855998595782262\n",
      "[LightGBM] [Warning] lambda_l2 is set=0.0972775381054041, reg_lambda=0.0 will be ignored. Current value: lambda_l2=0.0972775381054041\n",
      "Best params\n",
      "{'n_estimators': 301, 'max_depth': 10, 'learning_rate': 0.04669294849882116, 'num_leaves': 882, 'min_data_in_leaf': 824, 'max_bin': 327, 'lambda_l1': 1.3244787940505907, 'lambda_l2': 0.05968914398392078, 'min_child_weight': 8, 'bagging_fraction': 0.24051187527800666, 'pos_bagging_fraction': 0.49704762965666616, 'neg_bagging_fraction': 0.38884776136964494}\n"
     ]
    }
   ],
   "source": [
    "print(\"Preparing for hyperparameter tuning...\")\n",
    "def _construct_and_cross_validate(**kwargs):\n",
    "\n",
    "    lgbm = LGBMClassifier(\n",
    "        task = \"train\",\n",
    "        objective = \"binary\", #cross-entropy\n",
    "        metric = \"auc\",\n",
    "        tree_learner = \"data\",\n",
    "        random_state=100,\n",
    "        categorical_feature = [0,1,2],\n",
    "        class_weight={0: 1, 1: 14.291397},\n",
    "        n_estimators=kwargs['n_estimators'],\n",
    "        # to deal with overfitting, very important param\n",
    "        max_depth=kwargs['max_depth'],\n",
    "        learning_rate=kwargs['learning_rate'],\n",
    "        num_leaves=kwargs['num_leaves'],\n",
    "        min_data_in_leaf=kwargs['min_data_in_leaf'],\n",
    "        #if max_bin becomes small, the accuracy goes up\n",
    "        max_bin=kwargs['max_bin'],\n",
    "        lambda_l1=kwargs['lambda_l1'],\n",
    "        lambda_l2=kwargs['lambda_l2'],\n",
    "        # to deal with overfitting\n",
    "        min_child_weight=kwargs['min_child_weight'],\n",
    "        #for bagging imbalanced\n",
    "        bagging_fraction=kwargs['bagging_fraction'],\n",
    "        pos_bagging_fraction=kwargs['pos_bagging_fraction'],\n",
    "        neg_bagging_fraction=kwargs['neg_bagging_fraction'],\n",
    "    )\n",
    "    #cross validation K=5\n",
    "    scores = cross_val_score(\n",
    "        lgbm, \n",
    "        X_processed, \n",
    "        Y_model, \n",
    "        cv=StratifiedKFold(n_splits=5, shuffle=True),\n",
    "        scoring=\"roc_auc\"\n",
    "    )\n",
    "    return scores\n",
    "\n",
    "# Task: Hyperparameter tuning with Optuna\n",
    "def objective(trial: Trial):\n",
    "    # Construct a DecisionTreeClassifier object\n",
    "    scores = _construct_and_cross_validate(\n",
    "        n_estimators=trial.suggest_int('n_estimators',100,500),\n",
    "        # to deal with overfitting, very important param\n",
    "        max_depth = trial.suggest_int('max_depth',10,20),\n",
    "        learning_rate = trial.suggest_float('learning_rate',0.02,0.1),\n",
    "        num_leaves = trial.suggest_int('num_leaves',500,1000),\n",
    "        min_data_in_leaf = trial.suggest_int('min_data_in_leaf',100,1000),\n",
    "        #if max_bin becomes small, the accuracy goes up\n",
    "        max_bin = trial.suggest_int('max_bin',255,350),\n",
    "        lambda_l1 = trial.suggest_loguniform('lambda_l1', 1e-3, 10.0),\n",
    "        lambda_l2 = trial.suggest_loguniform('lambda_l2', 1e-3, 10.0),\n",
    "        # to deal with overfitting\n",
    "        min_child_weight = trial.suggest_int('min_child_weight', 1, 10),\n",
    "        #for bagging imbalanced\n",
    "        bagging_fraction = trial.suggest_float('bagging_fraction', 0,1),\n",
    "        pos_bagging_fraction = trial.suggest_float('pos_bagging_fraction', 0,1),\n",
    "        neg_bagging_fraction = trial.suggest_float('neg_bagging_fraction', 0,1),\n",
    "    )\n",
    "\n",
    "    return scores.mean()\n",
    "\n",
    "print(\"Hyperparameter tuning started...\")\n",
    "optuna.logging.set_verbosity(optuna.logging.WARNING)\n",
    "study = optuna.create_study(direction=\"maximize\")\n",
    "# Optimize 300 times\n",
    "study.optimize(objective, n_trials=300)\n",
    "\n",
    "# Print the best parameters\n",
    "print(\"Best params\")\n",
    "print(study.best_params)"
   ]
  },
  {
   "cell_type": "code",
   "execution_count": 70,
   "id": "c2cae29c",
   "metadata": {},
   "outputs": [
    {
     "name": "stdout",
     "output_type": "stream",
     "text": [
      "Finalizing model...\n",
      "[LightGBM] [Warning] min_data_in_leaf is set=824, min_child_samples=20 will be ignored. Current value: min_data_in_leaf=824\n",
      "[LightGBM] [Warning] lambda_l1 is set=1.3244787940505907, reg_alpha=0.0 will be ignored. Current value: lambda_l1=1.3244787940505907\n",
      "[LightGBM] [Warning] bagging_fraction is set=0.24051187527800666, subsample=1.0 will be ignored. Current value: bagging_fraction=0.24051187527800666\n",
      "[LightGBM] [Warning] lambda_l2 is set=0.05968914398392078, reg_lambda=0.0 will be ignored. Current value: lambda_l2=0.05968914398392078\n",
      "[LightGBM] [Warning] min_data_in_leaf is set=824, min_child_samples=20 will be ignored. Current value: min_data_in_leaf=824\n",
      "[LightGBM] [Warning] lambda_l1 is set=1.3244787940505907, reg_alpha=0.0 will be ignored. Current value: lambda_l1=1.3244787940505907\n",
      "[LightGBM] [Warning] bagging_fraction is set=0.24051187527800666, subsample=1.0 will be ignored. Current value: bagging_fraction=0.24051187527800666\n",
      "[LightGBM] [Warning] lambda_l2 is set=0.05968914398392078, reg_lambda=0.0 will be ignored. Current value: lambda_l2=0.05968914398392078\n",
      "[LightGBM] [Warning] min_data_in_leaf is set=824, min_child_samples=20 will be ignored. Current value: min_data_in_leaf=824\n",
      "[LightGBM] [Warning] lambda_l1 is set=1.3244787940505907, reg_alpha=0.0 will be ignored. Current value: lambda_l1=1.3244787940505907\n",
      "[LightGBM] [Warning] bagging_fraction is set=0.24051187527800666, subsample=1.0 will be ignored. Current value: bagging_fraction=0.24051187527800666\n",
      "[LightGBM] [Warning] lambda_l2 is set=0.05968914398392078, reg_lambda=0.0 will be ignored. Current value: lambda_l2=0.05968914398392078\n",
      "[LightGBM] [Warning] min_data_in_leaf is set=824, min_child_samples=20 will be ignored. Current value: min_data_in_leaf=824\n",
      "[LightGBM] [Warning] lambda_l1 is set=1.3244787940505907, reg_alpha=0.0 will be ignored. Current value: lambda_l1=1.3244787940505907\n",
      "[LightGBM] [Warning] bagging_fraction is set=0.24051187527800666, subsample=1.0 will be ignored. Current value: bagging_fraction=0.24051187527800666\n",
      "[LightGBM] [Warning] lambda_l2 is set=0.05968914398392078, reg_lambda=0.0 will be ignored. Current value: lambda_l2=0.05968914398392078\n",
      "[LightGBM] [Warning] min_data_in_leaf is set=824, min_child_samples=20 will be ignored. Current value: min_data_in_leaf=824\n",
      "[LightGBM] [Warning] lambda_l1 is set=1.3244787940505907, reg_alpha=0.0 will be ignored. Current value: lambda_l1=1.3244787940505907\n",
      "[LightGBM] [Warning] bagging_fraction is set=0.24051187527800666, subsample=1.0 will be ignored. Current value: bagging_fraction=0.24051187527800666\n",
      "[LightGBM] [Warning] lambda_l2 is set=0.05968914398392078, reg_lambda=0.0 will be ignored. Current value: lambda_l2=0.05968914398392078\n",
      "Average ROC AUC Score 0.8780357155990146\n",
      "Standard Deviation of ROC AUC Score 0.0010523921976993513\n"
     ]
    }
   ],
   "source": [
    "print(\"Finalizing model...\")\n",
    "scores = _construct_and_cross_validate(\n",
    "    n_estimators=study.best_params['n_estimators'],\n",
    "    # to deal with overfitting, very important param\n",
    "    max_depth=study.best_params['max_depth'],\n",
    "    learning_rate=study.best_params['learning_rate'],\n",
    "    num_leaves=study.best_params['num_leaves'],\n",
    "    min_data_in_leaf=study.best_params['min_data_in_leaf'],\n",
    "    #if max_bin becomes small, the accuracy goes up\n",
    "    max_bin=study.best_params['max_bin'],\n",
    "    lambda_l1=study.best_params['lambda_l1'],\n",
    "    lambda_l2=study.best_params['lambda_l2'],\n",
    "    # to deal with overfitting\n",
    "    min_child_weight=study.best_params['min_child_weight'],\n",
    "    #for bagging imbalanced\n",
    "    bagging_fraction=study.best_params['bagging_fraction'],\n",
    "    pos_bagging_fraction=study.best_params['pos_bagging_fraction'],\n",
    "    neg_bagging_fraction=study.best_params['neg_bagging_fraction'],\n",
    ")\n",
    "\n",
    "print(\"Average ROC AUC Score\", np.mean(scores))\n",
    "print(\"Standard Deviation of ROC AUC Score\", np.std(scores))\n"
   ]
  },
  {
   "cell_type": "code",
   "execution_count": 71,
   "id": "d8df6dd8",
   "metadata": {},
   "outputs": [],
   "source": [
    "optimized_LGBM = LGBMClassifier(\n",
    "    task = \"predict\",\n",
    "    objective = \"binary\",\n",
    "    metric = \"auc\",\n",
    "    tree_learner = \"data\",\n",
    "    categorical_feature = [0,1,2],\n",
    "    class_weight={0: 1, 1: 14.291397},\n",
    "    n_estimators=study.best_params['n_estimators'],\n",
    "    \n",
    "    # to deal with overfitting, very important param\n",
    "    max_depth=study.best_params['max_depth'],\n",
    "    learning_rate=study.best_params['learning_rate'],\n",
    "    num_leaves=study.best_params['num_leaves'],\n",
    "    min_data_in_leaf=study.best_params['min_data_in_leaf'],\n",
    "    \n",
    "    #if max_bin becomes small, the accuracy goes up\n",
    "    max_bin=study.best_params['max_bin'],\n",
    "    lambda_l1=study.best_params['lambda_l1'],\n",
    "    lambda_l2=study.best_params['lambda_l2'],\n",
    "    \n",
    "    # to deal with overfitting\n",
    "    min_child_weight=study.best_params['min_child_weight'],\n",
    "    #for bagging imbalanced\n",
    "    bagging_fraction=study.best_params['bagging_fraction'],\n",
    "    pos_bagging_fraction=study.best_params['pos_bagging_fraction'],\n",
    "    neg_bagging_fraction=study.best_params['neg_bagging_fraction'],\n",
    ")"
   ]
  },
  {
   "cell_type": "code",
   "execution_count": 73,
   "id": "7628209c",
   "metadata": {},
   "outputs": [],
   "source": [
    "# print(\"Executing...\")\n",
    "# Y_exam = np.zeros(X_exam_processed.shape[0])\n",
    "# k = 5\n",
    "# kf = StratifiedKFold(n_splits=k)\n",
    "# for tr_index, val_index in kf.split(X_processed,Y_model):\n",
    "#     X_tr,Y_tr = X_processed.iloc[tr_index],Y_model.iloc[tr_index]\n",
    "#     X_val, Y_val = X_processed.iloc[val_index],Y_model.iloc[val_index]\n",
    "    \n",
    "#     optimized_LGBM.fit(X_tr,Y_tr,eval_metric='auc')\n",
    "#     proba = optimized_LGBM.predict_proba(X_exam_processed)[:,1]\n",
    "#     Y_exam = Y_exam + proba\n",
    "# Y_exam = Y_exam/k\n",
    "# thresholds = np.array([0.4,0.5,0.6,0.7,0.8,0.9])\n",
    "# # the ratio of high prob with different thresholds\n",
    "# for num in thresholds: \n",
    "#     filtered = Y_exam[np.where(Y_exam>=num)]\n",
    "#     print(\"the number of probability more than %.2f is %d:\" %(num,len(filtered)))\n",
    "#     print(\"the ratio of probability more than %.2f is : %.4f\"%(num, float(len(filtered))/len(Y_exam)))\n",
    "#     print('---------------------------------------------------\\n')\n",
    "# # res = pd.DataFrame({'business prob':Y_exam})\n",
    "# # res.to_csv(\"./part1.csv\")\n"
   ]
  },
  {
   "cell_type": "code",
   "execution_count": 74,
   "id": "a0e4683c",
   "metadata": {},
   "outputs": [
    {
     "name": "stdout",
     "output_type": "stream",
     "text": [
      "[LightGBM] [Warning] min_data_in_leaf is set=824, min_child_samples=20 will be ignored. Current value: min_data_in_leaf=824\n",
      "[LightGBM] [Warning] lambda_l1 is set=1.3244787940505907, reg_alpha=0.0 will be ignored. Current value: lambda_l1=1.3244787940505907\n",
      "[LightGBM] [Warning] bagging_fraction is set=0.24051187527800666, subsample=1.0 will be ignored. Current value: bagging_fraction=0.24051187527800666\n",
      "[LightGBM] [Warning] lambda_l2 is set=0.05968914398392078, reg_lambda=0.0 will be ignored. Current value: lambda_l2=0.05968914398392078\n",
      "[LightGBM] [Warning] min_data_in_leaf is set=824, min_child_samples=20 will be ignored. Current value: min_data_in_leaf=824\n",
      "[LightGBM] [Warning] lambda_l1 is set=1.3244787940505907, reg_alpha=0.0 will be ignored. Current value: lambda_l1=1.3244787940505907\n",
      "[LightGBM] [Warning] bagging_fraction is set=0.24051187527800666, subsample=1.0 will be ignored. Current value: bagging_fraction=0.24051187527800666\n",
      "[LightGBM] [Warning] lambda_l2 is set=0.05968914398392078, reg_lambda=0.0 will be ignored. Current value: lambda_l2=0.05968914398392078\n",
      "[LightGBM] [Warning] min_data_in_leaf is set=824, min_child_samples=20 will be ignored. Current value: min_data_in_leaf=824\n",
      "[LightGBM] [Warning] lambda_l1 is set=1.3244787940505907, reg_alpha=0.0 will be ignored. Current value: lambda_l1=1.3244787940505907\n",
      "[LightGBM] [Warning] bagging_fraction is set=0.24051187527800666, subsample=1.0 will be ignored. Current value: bagging_fraction=0.24051187527800666\n",
      "[LightGBM] [Warning] lambda_l2 is set=0.05968914398392078, reg_lambda=0.0 will be ignored. Current value: lambda_l2=0.05968914398392078\n",
      "[LightGBM] [Warning] min_data_in_leaf is set=824, min_child_samples=20 will be ignored. Current value: min_data_in_leaf=824\n",
      "[LightGBM] [Warning] lambda_l1 is set=1.3244787940505907, reg_alpha=0.0 will be ignored. Current value: lambda_l1=1.3244787940505907\n",
      "[LightGBM] [Warning] bagging_fraction is set=0.24051187527800666, subsample=1.0 will be ignored. Current value: bagging_fraction=0.24051187527800666\n",
      "[LightGBM] [Warning] lambda_l2 is set=0.05968914398392078, reg_lambda=0.0 will be ignored. Current value: lambda_l2=0.05968914398392078\n",
      "[LightGBM] [Warning] min_data_in_leaf is set=824, min_child_samples=20 will be ignored. Current value: min_data_in_leaf=824\n",
      "[LightGBM] [Warning] lambda_l1 is set=1.3244787940505907, reg_alpha=0.0 will be ignored. Current value: lambda_l1=1.3244787940505907\n",
      "[LightGBM] [Warning] bagging_fraction is set=0.24051187527800666, subsample=1.0 will be ignored. Current value: bagging_fraction=0.24051187527800666\n",
      "[LightGBM] [Warning] lambda_l2 is set=0.05968914398392078, reg_lambda=0.0 will be ignored. Current value: lambda_l2=0.05968914398392078\n",
      "[LightGBM] [Warning] min_data_in_leaf is set=824, min_child_samples=20 will be ignored. Current value: min_data_in_leaf=824\n",
      "[LightGBM] [Warning] lambda_l1 is set=1.3244787940505907, reg_alpha=0.0 will be ignored. Current value: lambda_l1=1.3244787940505907\n",
      "[LightGBM] [Warning] bagging_fraction is set=0.24051187527800666, subsample=1.0 will be ignored. Current value: bagging_fraction=0.24051187527800666\n",
      "[LightGBM] [Warning] lambda_l2 is set=0.05968914398392078, reg_lambda=0.0 will be ignored. Current value: lambda_l2=0.05968914398392078\n",
      "[LightGBM] [Warning] min_data_in_leaf is set=824, min_child_samples=20 will be ignored. Current value: min_data_in_leaf=824\n",
      "[LightGBM] [Warning] lambda_l1 is set=1.3244787940505907, reg_alpha=0.0 will be ignored. Current value: lambda_l1=1.3244787940505907\n",
      "[LightGBM] [Warning] bagging_fraction is set=0.24051187527800666, subsample=1.0 will be ignored. Current value: bagging_fraction=0.24051187527800666\n",
      "[LightGBM] [Warning] lambda_l2 is set=0.05968914398392078, reg_lambda=0.0 will be ignored. Current value: lambda_l2=0.05968914398392078\n",
      "[LightGBM] [Warning] min_data_in_leaf is set=824, min_child_samples=20 will be ignored. Current value: min_data_in_leaf=824\n",
      "[LightGBM] [Warning] lambda_l1 is set=1.3244787940505907, reg_alpha=0.0 will be ignored. Current value: lambda_l1=1.3244787940505907\n",
      "[LightGBM] [Warning] bagging_fraction is set=0.24051187527800666, subsample=1.0 will be ignored. Current value: bagging_fraction=0.24051187527800666\n",
      "[LightGBM] [Warning] lambda_l2 is set=0.05968914398392078, reg_lambda=0.0 will be ignored. Current value: lambda_l2=0.05968914398392078\n",
      "[LightGBM] [Warning] min_data_in_leaf is set=824, min_child_samples=20 will be ignored. Current value: min_data_in_leaf=824\n",
      "[LightGBM] [Warning] lambda_l1 is set=1.3244787940505907, reg_alpha=0.0 will be ignored. Current value: lambda_l1=1.3244787940505907\n",
      "[LightGBM] [Warning] bagging_fraction is set=0.24051187527800666, subsample=1.0 will be ignored. Current value: bagging_fraction=0.24051187527800666\n",
      "[LightGBM] [Warning] lambda_l2 is set=0.05968914398392078, reg_lambda=0.0 will be ignored. Current value: lambda_l2=0.05968914398392078\n",
      "[LightGBM] [Warning] min_data_in_leaf is set=824, min_child_samples=20 will be ignored. Current value: min_data_in_leaf=824\n",
      "[LightGBM] [Warning] lambda_l1 is set=1.3244787940505907, reg_alpha=0.0 will be ignored. Current value: lambda_l1=1.3244787940505907\n",
      "[LightGBM] [Warning] bagging_fraction is set=0.24051187527800666, subsample=1.0 will be ignored. Current value: bagging_fraction=0.24051187527800666\n",
      "[LightGBM] [Warning] lambda_l2 is set=0.05968914398392078, reg_lambda=0.0 will be ignored. Current value: lambda_l2=0.05968914398392078\n",
      "[LightGBM] [Warning] min_data_in_leaf is set=824, min_child_samples=20 will be ignored. Current value: min_data_in_leaf=824\n",
      "[LightGBM] [Warning] lambda_l1 is set=1.3244787940505907, reg_alpha=0.0 will be ignored. Current value: lambda_l1=1.3244787940505907\n",
      "[LightGBM] [Warning] bagging_fraction is set=0.24051187527800666, subsample=1.0 will be ignored. Current value: bagging_fraction=0.24051187527800666\n",
      "[LightGBM] [Warning] lambda_l2 is set=0.05968914398392078, reg_lambda=0.0 will be ignored. Current value: lambda_l2=0.05968914398392078\n",
      "[LightGBM] [Warning] min_data_in_leaf is set=824, min_child_samples=20 will be ignored. Current value: min_data_in_leaf=824\n",
      "[LightGBM] [Warning] lambda_l1 is set=1.3244787940505907, reg_alpha=0.0 will be ignored. Current value: lambda_l1=1.3244787940505907\n",
      "[LightGBM] [Warning] bagging_fraction is set=0.24051187527800666, subsample=1.0 will be ignored. Current value: bagging_fraction=0.24051187527800666\n",
      "[LightGBM] [Warning] lambda_l2 is set=0.05968914398392078, reg_lambda=0.0 will be ignored. Current value: lambda_l2=0.05968914398392078\n",
      "[LightGBM] [Warning] min_data_in_leaf is set=824, min_child_samples=20 will be ignored. Current value: min_data_in_leaf=824\n",
      "[LightGBM] [Warning] lambda_l1 is set=1.3244787940505907, reg_alpha=0.0 will be ignored. Current value: lambda_l1=1.3244787940505907\n",
      "[LightGBM] [Warning] bagging_fraction is set=0.24051187527800666, subsample=1.0 will be ignored. Current value: bagging_fraction=0.24051187527800666\n",
      "[LightGBM] [Warning] lambda_l2 is set=0.05968914398392078, reg_lambda=0.0 will be ignored. Current value: lambda_l2=0.05968914398392078\n",
      "[LightGBM] [Warning] min_data_in_leaf is set=824, min_child_samples=20 will be ignored. Current value: min_data_in_leaf=824\n",
      "[LightGBM] [Warning] lambda_l1 is set=1.3244787940505907, reg_alpha=0.0 will be ignored. Current value: lambda_l1=1.3244787940505907\n",
      "[LightGBM] [Warning] bagging_fraction is set=0.24051187527800666, subsample=1.0 will be ignored. Current value: bagging_fraction=0.24051187527800666\n",
      "[LightGBM] [Warning] lambda_l2 is set=0.05968914398392078, reg_lambda=0.0 will be ignored. Current value: lambda_l2=0.05968914398392078\n",
      "[LightGBM] [Warning] min_data_in_leaf is set=824, min_child_samples=20 will be ignored. Current value: min_data_in_leaf=824\n",
      "[LightGBM] [Warning] lambda_l1 is set=1.3244787940505907, reg_alpha=0.0 will be ignored. Current value: lambda_l1=1.3244787940505907\n",
      "[LightGBM] [Warning] bagging_fraction is set=0.24051187527800666, subsample=1.0 will be ignored. Current value: bagging_fraction=0.24051187527800666\n",
      "[LightGBM] [Warning] lambda_l2 is set=0.05968914398392078, reg_lambda=0.0 will be ignored. Current value: lambda_l2=0.05968914398392078\n",
      "[LightGBM] [Warning] min_data_in_leaf is set=824, min_child_samples=20 will be ignored. Current value: min_data_in_leaf=824\n",
      "[LightGBM] [Warning] lambda_l1 is set=1.3244787940505907, reg_alpha=0.0 will be ignored. Current value: lambda_l1=1.3244787940505907\n",
      "[LightGBM] [Warning] bagging_fraction is set=0.24051187527800666, subsample=1.0 will be ignored. Current value: bagging_fraction=0.24051187527800666\n",
      "[LightGBM] [Warning] lambda_l2 is set=0.05968914398392078, reg_lambda=0.0 will be ignored. Current value: lambda_l2=0.05968914398392078\n"
     ]
    },
    {
     "name": "stdout",
     "output_type": "stream",
     "text": [
      "[LightGBM] [Warning] min_data_in_leaf is set=824, min_child_samples=20 will be ignored. Current value: min_data_in_leaf=824\n",
      "[LightGBM] [Warning] lambda_l1 is set=1.3244787940505907, reg_alpha=0.0 will be ignored. Current value: lambda_l1=1.3244787940505907\n",
      "[LightGBM] [Warning] bagging_fraction is set=0.24051187527800666, subsample=1.0 will be ignored. Current value: bagging_fraction=0.24051187527800666\n",
      "[LightGBM] [Warning] lambda_l2 is set=0.05968914398392078, reg_lambda=0.0 will be ignored. Current value: lambda_l2=0.05968914398392078\n",
      "[LightGBM] [Warning] min_data_in_leaf is set=824, min_child_samples=20 will be ignored. Current value: min_data_in_leaf=824\n",
      "[LightGBM] [Warning] lambda_l1 is set=1.3244787940505907, reg_alpha=0.0 will be ignored. Current value: lambda_l1=1.3244787940505907\n",
      "[LightGBM] [Warning] bagging_fraction is set=0.24051187527800666, subsample=1.0 will be ignored. Current value: bagging_fraction=0.24051187527800666\n",
      "[LightGBM] [Warning] lambda_l2 is set=0.05968914398392078, reg_lambda=0.0 will be ignored. Current value: lambda_l2=0.05968914398392078\n",
      "[LightGBM] [Warning] min_data_in_leaf is set=824, min_child_samples=20 will be ignored. Current value: min_data_in_leaf=824\n",
      "[LightGBM] [Warning] lambda_l1 is set=1.3244787940505907, reg_alpha=0.0 will be ignored. Current value: lambda_l1=1.3244787940505907\n",
      "[LightGBM] [Warning] bagging_fraction is set=0.24051187527800666, subsample=1.0 will be ignored. Current value: bagging_fraction=0.24051187527800666\n",
      "[LightGBM] [Warning] lambda_l2 is set=0.05968914398392078, reg_lambda=0.0 will be ignored. Current value: lambda_l2=0.05968914398392078\n",
      "[LightGBM] [Warning] min_data_in_leaf is set=824, min_child_samples=20 will be ignored. Current value: min_data_in_leaf=824\n",
      "[LightGBM] [Warning] lambda_l1 is set=1.3244787940505907, reg_alpha=0.0 will be ignored. Current value: lambda_l1=1.3244787940505907\n",
      "[LightGBM] [Warning] bagging_fraction is set=0.24051187527800666, subsample=1.0 will be ignored. Current value: bagging_fraction=0.24051187527800666\n",
      "[LightGBM] [Warning] lambda_l2 is set=0.05968914398392078, reg_lambda=0.0 will be ignored. Current value: lambda_l2=0.05968914398392078\n",
      "[LightGBM] [Warning] min_data_in_leaf is set=824, min_child_samples=20 will be ignored. Current value: min_data_in_leaf=824\n",
      "[LightGBM] [Warning] lambda_l1 is set=1.3244787940505907, reg_alpha=0.0 will be ignored. Current value: lambda_l1=1.3244787940505907\n",
      "[LightGBM] [Warning] bagging_fraction is set=0.24051187527800666, subsample=1.0 will be ignored. Current value: bagging_fraction=0.24051187527800666\n",
      "[LightGBM] [Warning] lambda_l2 is set=0.05968914398392078, reg_lambda=0.0 will be ignored. Current value: lambda_l2=0.05968914398392078\n",
      "[LightGBM] [Warning] min_data_in_leaf is set=824, min_child_samples=20 will be ignored. Current value: min_data_in_leaf=824\n",
      "[LightGBM] [Warning] lambda_l1 is set=1.3244787940505907, reg_alpha=0.0 will be ignored. Current value: lambda_l1=1.3244787940505907\n",
      "[LightGBM] [Warning] bagging_fraction is set=0.24051187527800666, subsample=1.0 will be ignored. Current value: bagging_fraction=0.24051187527800666\n",
      "[LightGBM] [Warning] lambda_l2 is set=0.05968914398392078, reg_lambda=0.0 will be ignored. Current value: lambda_l2=0.05968914398392078\n",
      "[LightGBM] [Warning] min_data_in_leaf is set=824, min_child_samples=20 will be ignored. Current value: min_data_in_leaf=824\n",
      "[LightGBM] [Warning] lambda_l1 is set=1.3244787940505907, reg_alpha=0.0 will be ignored. Current value: lambda_l1=1.3244787940505907\n",
      "[LightGBM] [Warning] bagging_fraction is set=0.24051187527800666, subsample=1.0 will be ignored. Current value: bagging_fraction=0.24051187527800666\n",
      "[LightGBM] [Warning] lambda_l2 is set=0.05968914398392078, reg_lambda=0.0 will be ignored. Current value: lambda_l2=0.05968914398392078\n",
      "[LightGBM] [Warning] min_data_in_leaf is set=824, min_child_samples=20 will be ignored. Current value: min_data_in_leaf=824\n",
      "[LightGBM] [Warning] lambda_l1 is set=1.3244787940505907, reg_alpha=0.0 will be ignored. Current value: lambda_l1=1.3244787940505907\n",
      "[LightGBM] [Warning] bagging_fraction is set=0.24051187527800666, subsample=1.0 will be ignored. Current value: bagging_fraction=0.24051187527800666\n",
      "[LightGBM] [Warning] lambda_l2 is set=0.05968914398392078, reg_lambda=0.0 will be ignored. Current value: lambda_l2=0.05968914398392078\n",
      "[LightGBM] [Warning] min_data_in_leaf is set=824, min_child_samples=20 will be ignored. Current value: min_data_in_leaf=824\n",
      "[LightGBM] [Warning] lambda_l1 is set=1.3244787940505907, reg_alpha=0.0 will be ignored. Current value: lambda_l1=1.3244787940505907\n",
      "[LightGBM] [Warning] bagging_fraction is set=0.24051187527800666, subsample=1.0 will be ignored. Current value: bagging_fraction=0.24051187527800666\n",
      "[LightGBM] [Warning] lambda_l2 is set=0.05968914398392078, reg_lambda=0.0 will be ignored. Current value: lambda_l2=0.05968914398392078\n",
      "[LightGBM] [Warning] min_data_in_leaf is set=824, min_child_samples=20 will be ignored. Current value: min_data_in_leaf=824\n",
      "[LightGBM] [Warning] lambda_l1 is set=1.3244787940505907, reg_alpha=0.0 will be ignored. Current value: lambda_l1=1.3244787940505907\n",
      "[LightGBM] [Warning] bagging_fraction is set=0.24051187527800666, subsample=1.0 will be ignored. Current value: bagging_fraction=0.24051187527800666\n",
      "[LightGBM] [Warning] lambda_l2 is set=0.05968914398392078, reg_lambda=0.0 will be ignored. Current value: lambda_l2=0.05968914398392078\n",
      "[LightGBM] [Warning] min_data_in_leaf is set=824, min_child_samples=20 will be ignored. Current value: min_data_in_leaf=824\n",
      "[LightGBM] [Warning] lambda_l1 is set=1.3244787940505907, reg_alpha=0.0 will be ignored. Current value: lambda_l1=1.3244787940505907\n",
      "[LightGBM] [Warning] bagging_fraction is set=0.24051187527800666, subsample=1.0 will be ignored. Current value: bagging_fraction=0.24051187527800666\n",
      "[LightGBM] [Warning] lambda_l2 is set=0.05968914398392078, reg_lambda=0.0 will be ignored. Current value: lambda_l2=0.05968914398392078\n",
      "[LightGBM] [Warning] min_data_in_leaf is set=824, min_child_samples=20 will be ignored. Current value: min_data_in_leaf=824\n",
      "[LightGBM] [Warning] lambda_l1 is set=1.3244787940505907, reg_alpha=0.0 will be ignored. Current value: lambda_l1=1.3244787940505907\n",
      "[LightGBM] [Warning] bagging_fraction is set=0.24051187527800666, subsample=1.0 will be ignored. Current value: bagging_fraction=0.24051187527800666\n",
      "[LightGBM] [Warning] lambda_l2 is set=0.05968914398392078, reg_lambda=0.0 will be ignored. Current value: lambda_l2=0.05968914398392078\n",
      "[LightGBM] [Warning] min_data_in_leaf is set=824, min_child_samples=20 will be ignored. Current value: min_data_in_leaf=824\n",
      "[LightGBM] [Warning] lambda_l1 is set=1.3244787940505907, reg_alpha=0.0 will be ignored. Current value: lambda_l1=1.3244787940505907\n",
      "[LightGBM] [Warning] bagging_fraction is set=0.24051187527800666, subsample=1.0 will be ignored. Current value: bagging_fraction=0.24051187527800666\n",
      "[LightGBM] [Warning] lambda_l2 is set=0.05968914398392078, reg_lambda=0.0 will be ignored. Current value: lambda_l2=0.05968914398392078\n",
      "[LightGBM] [Warning] min_data_in_leaf is set=824, min_child_samples=20 will be ignored. Current value: min_data_in_leaf=824\n",
      "[LightGBM] [Warning] lambda_l1 is set=1.3244787940505907, reg_alpha=0.0 will be ignored. Current value: lambda_l1=1.3244787940505907\n",
      "[LightGBM] [Warning] bagging_fraction is set=0.24051187527800666, subsample=1.0 will be ignored. Current value: bagging_fraction=0.24051187527800666\n",
      "[LightGBM] [Warning] lambda_l2 is set=0.05968914398392078, reg_lambda=0.0 will be ignored. Current value: lambda_l2=0.05968914398392078\n",
      "[LightGBM] [Warning] min_data_in_leaf is set=824, min_child_samples=20 will be ignored. Current value: min_data_in_leaf=824\n",
      "[LightGBM] [Warning] lambda_l1 is set=1.3244787940505907, reg_alpha=0.0 will be ignored. Current value: lambda_l1=1.3244787940505907\n",
      "[LightGBM] [Warning] bagging_fraction is set=0.24051187527800666, subsample=1.0 will be ignored. Current value: bagging_fraction=0.24051187527800666\n",
      "[LightGBM] [Warning] lambda_l2 is set=0.05968914398392078, reg_lambda=0.0 will be ignored. Current value: lambda_l2=0.05968914398392078\n",
      "[LightGBM] [Warning] min_data_in_leaf is set=824, min_child_samples=20 will be ignored. Current value: min_data_in_leaf=824\n",
      "[LightGBM] [Warning] lambda_l1 is set=1.3244787940505907, reg_alpha=0.0 will be ignored. Current value: lambda_l1=1.3244787940505907\n",
      "[LightGBM] [Warning] bagging_fraction is set=0.24051187527800666, subsample=1.0 will be ignored. Current value: bagging_fraction=0.24051187527800666\n",
      "[LightGBM] [Warning] lambda_l2 is set=0.05968914398392078, reg_lambda=0.0 will be ignored. Current value: lambda_l2=0.05968914398392078\n"
     ]
    },
    {
     "name": "stdout",
     "output_type": "stream",
     "text": [
      "[LightGBM] [Warning] min_data_in_leaf is set=824, min_child_samples=20 will be ignored. Current value: min_data_in_leaf=824\n",
      "[LightGBM] [Warning] lambda_l1 is set=1.3244787940505907, reg_alpha=0.0 will be ignored. Current value: lambda_l1=1.3244787940505907\n",
      "[LightGBM] [Warning] bagging_fraction is set=0.24051187527800666, subsample=1.0 will be ignored. Current value: bagging_fraction=0.24051187527800666\n",
      "[LightGBM] [Warning] lambda_l2 is set=0.05968914398392078, reg_lambda=0.0 will be ignored. Current value: lambda_l2=0.05968914398392078\n",
      "[LightGBM] [Warning] min_data_in_leaf is set=824, min_child_samples=20 will be ignored. Current value: min_data_in_leaf=824\n",
      "[LightGBM] [Warning] lambda_l1 is set=1.3244787940505907, reg_alpha=0.0 will be ignored. Current value: lambda_l1=1.3244787940505907\n",
      "[LightGBM] [Warning] bagging_fraction is set=0.24051187527800666, subsample=1.0 will be ignored. Current value: bagging_fraction=0.24051187527800666\n",
      "[LightGBM] [Warning] lambda_l2 is set=0.05968914398392078, reg_lambda=0.0 will be ignored. Current value: lambda_l2=0.05968914398392078\n",
      "[LightGBM] [Warning] min_data_in_leaf is set=824, min_child_samples=20 will be ignored. Current value: min_data_in_leaf=824\n",
      "[LightGBM] [Warning] lambda_l1 is set=1.3244787940505907, reg_alpha=0.0 will be ignored. Current value: lambda_l1=1.3244787940505907\n",
      "[LightGBM] [Warning] bagging_fraction is set=0.24051187527800666, subsample=1.0 will be ignored. Current value: bagging_fraction=0.24051187527800666\n",
      "[LightGBM] [Warning] lambda_l2 is set=0.05968914398392078, reg_lambda=0.0 will be ignored. Current value: lambda_l2=0.05968914398392078\n"
     ]
    }
   ],
   "source": [
    "from sklearn.metrics import accuracy_score\n",
    "# Y_exam = np.zeros(X_exam_processed.shape[0])\n",
    "\n",
    "accuracy_Arr = np.array([])\n",
    "popup_Arr = np.array([])\n",
    "survey_Arr = np.array([])\n",
    "\n",
    "k = 5\n",
    "kf = StratifiedKFold(n_splits=k)\n",
    "thresholds = [0.4,0.48,0.5,0.53,0.65,0.7,0.75]\n",
    "for th in thresholds:\n",
    "    popup_P = 0\n",
    "    survey_P = 0\n",
    "    accuracy = 0\n",
    "    for tr_index, val_index in kf.split(X_processed,Y_model):\n",
    "        X_tr,Y_tr = X_processed.iloc[tr_index],Y_model.iloc[tr_index]\n",
    "        X_val, Y_val = X_processed.iloc[val_index],Y_model.iloc[val_index]\n",
    "\n",
    "        optimized_LGBM.fit(X_tr,Y_tr,eval_metric='auc')\n",
    "        # Generate the columns\n",
    "        proba = optimized_LGBM.predict_proba(X_val)[:,1]\n",
    "        pred = pd.DataFrame({'business prob_pred':proba})\n",
    "        popup = pd.DataFrame({'popup':np.zeros(X_val.shape[0])})\n",
    "        survey = pd.DataFrame({'survey':np.zeros(X_val.shape[0])})\n",
    "#         login = pd.DataFrame({'login':np.zeros(X_val.shape[0])})\n",
    "        \n",
    "        # Merge\n",
    "        res = pd.concat([pred,popup],axis=1)\n",
    "        res = pd.concat([res,survey],axis=1)\n",
    "#         res = pd.concat([res,login],axis=1)\n",
    "        \n",
    "        # If predicted proba is more than th, put his popup as 1\n",
    "        res.loc[res['business prob_pred'] >= th, 'popup'] = 1\n",
    "        res.loc[ (res['business prob_pred'] >= th)&(X_val['last_5_days_sum']>0) , 'survey'] = 1\n",
    "        \n",
    "        accuracy += accuracy_score(Y_val, res['popup'])\n",
    "        res = pd.concat([res,Y_val.reset_index(drop=True)],axis=1) # Merge res with Y_val\n",
    "        popup_P += res.loc[res['popup']==1,'business'].sum()*(500000*0.01) - res['popup'].sum()*400\n",
    "        survey_P += res.loc[res['survey']==1,'business'].sum()*(500000*0.036) - res['survey'].sum()*5000*0.18\n",
    "        \n",
    "    accuracy_Arr = np.append(accuracy_Arr,accuracy/k)\n",
    "    popup_Arr = np.append(popup_Arr,popup_P/k)\n",
    "    survey_Arr = np.append(survey_Arr,survey_P/k)\n",
    "    \n",
    "\n",
    "#     print('---------------------------------')\n",
    "#     print(accuracy_score(Y_val, res['popup']))\n",
    "#     print('---------------------------------')\n",
    "#     print('net profit:')\n",
    "#     profit = res.loc[res['popup']==1,'business'].sum()*(500000*0.01) - res['popup'].sum()*400\n",
    "#     print(profit)\n",
    "#     print('---------------------------------')\n"
   ]
  },
  {
   "cell_type": "code",
   "execution_count": 75,
   "id": "ac832ca7",
   "metadata": {},
   "outputs": [
    {
     "name": "stdout",
     "output_type": "stream",
     "text": [
      "   threshold  avg_Accuracy  avg_Popup_Profit  avg_Survey_Porfit\n",
      "0       0.40      0.686820        25849520.0         20174400.0\n",
      "1       0.48      0.716723        26507480.0         20156040.0\n",
      "2       0.50      0.724748        26610320.0         20131200.0\n",
      "3       0.53      0.736827        26692880.0         19968660.0\n",
      "4       0.65      0.793565        25307600.0         18174960.0\n",
      "5       0.70      0.831893        22974240.0         16076520.0\n",
      "6       0.75      0.879454        18264040.0         12313620.0\n"
     ]
    }
   ],
   "source": [
    "df = pd.DataFrame({'threshold':thresholds, 'avg_Accuracy':accuracy_Arr, 'avg_Popup_Profit':popup_Arr, 'avg_Survey_Porfit':survey_Arr})\n",
    "df.set_index('threshold')\n",
    "print(df)"
   ]
  },
  {
   "cell_type": "code",
   "execution_count": 76,
   "id": "4b62788d",
   "metadata": {},
   "outputs": [
    {
     "name": "stdout",
     "output_type": "stream",
     "text": [
      "Data preprocessing...\n"
     ]
    }
   ],
   "source": [
    "X_exam = pd.read_csv('X_exam.csv')\n",
    "print(\"Data preprocessing...\")\n",
    "dist_GIT_exam = rangesum(\n",
    "    'GIT', \n",
    "    r\"202205[0-9]{2}\", \n",
    "    \"cts\", \n",
    "    equal_dist(31)\n",
    ")(X_exam)\n",
    "dist_VAT_exam = rangesum(\n",
    "    'VAT', \n",
    "    r\"20220[17](?:[01][0-9]|2[0-5])\", \n",
    "    \"ts\", \n",
    "    np.concatenate((equal_dist(25), equal_dist(25)))\n",
    ")(X_exam)\n",
    "entire_days = 31 + 29 + 31 + 30 + 31 + 30 + 31 + 25\n",
    "entire_exam = rangesum(\n",
    "    'Entire', \n",
    "    r\"2022[0-9]{4}\", \n",
    "    \"cts\", \n",
    "    equal_dist(entire_days)\n",
    ")(X_exam)\n",
    "\n",
    "age_code_exam = np.array(X_exam['age_code'])\n",
    "gender_code_exam = np.array(X_exam['gender'])\n",
    "region_code_exam = np.array(X_exam['region_code'])\n",
    "cat_Featrues_exam = []\n",
    "cat_Featrues_exam.append(['gender',age_code_exam])\n",
    "cat_Featrues_exam.append(['age_code',age_code_exam])\n",
    "cat_Featrues_exam.append(['region_code',region_code_exam])\n",
    "\n",
    "# Get columns of \"c\" prefix of last 5 days of month\n",
    "last_5_days = [\n",
    "    *[f\"c202201{i + 27}\" for i in range(5)],\n",
    "    *[f\"c202202{i + 24}\" for i in range(5)],\n",
    "    *[f\"c202203{i + 27}\" for i in range(5)],\n",
    "    *[f\"c202204{i + 26}\" for i in range(5)],\n",
    "    *[f\"c202205{i + 27}\" for i in range(5)],\n",
    "    *[f\"c202206{i + 26}\" for i in range(5)],\n",
    "    *[f\"c202207{i + 27}\" for i in range(5)],\n",
    "]\n",
    "last_5_days_sum_exam = X_exam.filter(last_5_days, axis=1).fillna(0).sum(axis=1)\n",
    "last_5_days_sum_exam = X_exam.filter(last_5_days, axis=1).fillna(0).sum(axis=1)\n",
    "last5_code_exam = np.array(last_5_days_sum_exam)\n",
    "last_5_days_sum_list_exam =[]\n",
    "last_5_days_sum_list_exam.append(['last_5_days_sum',last5_code_exam])\n",
    "\n",
    "X_exam_processed = preprocess(\n",
    "    X_exam, \n",
    "    [\n",
    "        cat_Featrues_exam,\n",
    "        dist_GIT_exam,\n",
    "        dist_VAT_exam,\n",
    "        entire_exam,\n",
    "        last_5_days_sum_list_exam\n",
    "    ]\n",
    ")"
   ]
  },
  {
   "cell_type": "code",
   "execution_count": 77,
   "id": "236756b0",
   "metadata": {},
   "outputs": [
    {
     "name": "stdout",
     "output_type": "stream",
     "text": [
      "[LightGBM] [Warning] min_data_in_leaf is set=824, min_child_samples=20 will be ignored. Current value: min_data_in_leaf=824\n",
      "[LightGBM] [Warning] lambda_l1 is set=1.3244787940505907, reg_alpha=0.0 will be ignored. Current value: lambda_l1=1.3244787940505907\n",
      "[LightGBM] [Warning] bagging_fraction is set=0.24051187527800666, subsample=1.0 will be ignored. Current value: bagging_fraction=0.24051187527800666\n",
      "[LightGBM] [Warning] lambda_l2 is set=0.05968914398392078, reg_lambda=0.0 will be ignored. Current value: lambda_l2=0.05968914398392078\n"
     ]
    }
   ],
   "source": [
    "optimized_LGBM.fit(X_processed,Y_model,eval_metric='auc')\n",
    "proba = optimized_LGBM.predict_proba(X_exam_processed)[:,1]"
   ]
  },
  {
   "cell_type": "code",
   "execution_count": 100,
   "id": "7adf231e",
   "metadata": {},
   "outputs": [
    {
     "name": "stdout",
     "output_type": "stream",
     "text": [
      "   business_prob  popup  survey\n",
      "0       0.450327      0       0\n",
      "1       0.001605      0       0\n",
      "2       0.520748      0       0\n",
      "3       0.004561      0       0\n",
      "4       0.044437      0       0\n"
     ]
    }
   ],
   "source": [
    "final = pd.DataFrame({'business_prob':proba})\n",
    "P = pd.DataFrame({'popup':np.zeros(X_exam_processed.shape[0],dtype=int)})\n",
    "S = pd.DataFrame({'survey':np.zeros(X_exam_processed.shape[0],dtype=int)})\n",
    "\n",
    "final = pd.concat([final,P],axis=1)\n",
    "final = pd.concat([final,S],axis=1)\n",
    "\n",
    "final.loc[final['business_prob'] >= 0.53, 'popup'] = int(1)\n",
    "final.loc[(final['business_prob'] >= 0.63345) & (X_exam_processed['last_5_days_sum']>0), 'survey'] = int(1)\n",
    "print(final.head())\n",
    "final.to_csv(\"./submission.csv\",index=False)"
   ]
  },
  {
   "cell_type": "code",
   "execution_count": 101,
   "id": "fe7579fb",
   "metadata": {},
   "outputs": [
    {
     "data": {
      "text/plain": [
       "49998"
      ]
     },
     "execution_count": 101,
     "metadata": {},
     "output_type": "execute_result"
    }
   ],
   "source": [
    "final['survey'].sum()"
   ]
  }
 ],
 "metadata": {
  "kernelspec": {
   "display_name": "Python 3 (ipykernel)",
   "language": "python",
   "name": "python3"
  },
  "language_info": {
   "codemirror_mode": {
    "name": "ipython",
    "version": 3
   },
   "file_extension": ".py",
   "mimetype": "text/x-python",
   "name": "python",
   "nbconvert_exporter": "python",
   "pygments_lexer": "ipython3",
   "version": "3.9.12"
  }
 },
 "nbformat": 4,
 "nbformat_minor": 5
}
