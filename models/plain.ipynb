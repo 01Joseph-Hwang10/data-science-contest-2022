{
 "cells": [
  {
   "cell_type": "code",
   "execution_count": 1,
   "metadata": {},
   "outputs": [],
   "source": [
    "import numpy as np\n",
    "import pandas as pd\n",
    "from sklearn.model_selection import train_test_split\n",
    "from sklearn.tree import DecisionTreeClassifier\n",
    "import matplotlib.pyplot as plt\n",
    "from sklearn.metrics import roc_auc_score\n",
    "import optuna\n",
    "from optuna.trial import Trial"
   ]
  },
  {
   "cell_type": "code",
   "execution_count": 2,
   "metadata": {},
   "outputs": [
    {
     "name": "stdout",
     "output_type": "stream",
     "text": [
      "Index(['gender', 'age_code', 'region_code', 'c20220101', 'c20220102',\n",
      "       'c20220103', 'c20220104', 'c20220105', 'c20220106', 'c20220107',\n",
      "       ...\n",
      "       't20220817', 't20220818', 't20220819', 't20220820', 't20220821',\n",
      "       't20220822', 't20220823', 't20220824', 't20220825', 't20220826'],\n",
      "      dtype='object', length=717)\n",
      "Index(['business'], dtype='object')\n"
     ]
    }
   ],
   "source": [
    "# Load X_model.csv and print out column names\n",
    "X_model = pd.read_csv('../data/X_model.csv')\n",
    "print(X_model.columns)\n",
    "# Load Y_model.csv and print out column names\n",
    "Y_model = pd.read_csv('../data/Y_model.csv')\n",
    "print(Y_model.columns)"
   ]
  },
  {
   "cell_type": "code",
   "execution_count": 3,
   "metadata": {},
   "outputs": [
    {
     "name": "stdout",
     "output_type": "stream",
     "text": [
      "   gender  age_code  region_code  c20220101  c20220102  c20220103  c20220104  \\\n",
      "0       1        13            7        NaN        NaN        NaN        NaN   \n",
      "1       1         5            1        NaN        NaN        NaN        NaN   \n",
      "2       2         6            2        NaN        NaN        NaN        NaN   \n",
      "3       2         1            1        NaN        NaN        NaN        NaN   \n",
      "4       2         5            1        NaN        NaN        NaN        NaN   \n",
      "\n",
      "   c20220105  c20220106  c20220107  ...  t20220817  t20220818  t20220819  \\\n",
      "0        NaN        NaN        NaN  ...        NaN        NaN        NaN   \n",
      "1        1.0        NaN        NaN  ...        NaN        NaN        NaN   \n",
      "2        NaN        NaN        NaN  ...        NaN        NaN        NaN   \n",
      "3        NaN        NaN        NaN  ...        NaN        NaN        NaN   \n",
      "4        NaN        NaN        NaN  ...        NaN        NaN        NaN   \n",
      "\n",
      "   t20220820  t20220821  t20220822  t20220823  t20220824  t20220825  t20220826  \n",
      "0        NaN        NaN        NaN        NaN        NaN        NaN        1.0  \n",
      "1        NaN        NaN        NaN        NaN        NaN        NaN        NaN  \n",
      "2        NaN        NaN        NaN        NaN        NaN        NaN        NaN  \n",
      "3        NaN        NaN        NaN        NaN        NaN        NaN        NaN  \n",
      "4        NaN        NaN        NaN        NaN        NaN        NaN        NaN  \n",
      "\n",
      "[5 rows x 717 columns]\n",
      "   business\n",
      "0         0\n",
      "1         0\n",
      "2         0\n",
      "3         0\n",
      "4         0\n"
     ]
    }
   ],
   "source": [
    "# Head up X_model\n",
    "print(X_model.head())\n",
    "# Head up Y_model\n",
    "print(Y_model.head())"
   ]
  },
  {
   "cell_type": "code",
   "execution_count": 4,
   "metadata": {},
   "outputs": [],
   "source": [
    "# Fill NaN in X_model with 0\n",
    "X_model = X_model.fillna(0)"
   ]
  },
  {
   "cell_type": "code",
   "execution_count": 5,
   "metadata": {},
   "outputs": [
    {
     "data": {
      "text/plain": [
       "<AxesSubplot:xlabel='business', ylabel='count'>"
      ]
     },
     "execution_count": 5,
     "metadata": {},
     "output_type": "execute_result"
    },
    {
     "data": {
      "image/png": "[encoded data removed]",
      "text/plain": [
       "<Figure size 640x480 with 1 Axes>"
      ]
     },
     "metadata": {},
     "output_type": "display_data"
    }
   ],
   "source": [
    "# Check the imbalance of train data and plot it with sns\n",
    "import seaborn as sns\n",
    "sns.countplot(x='business', data=Y_model)"
   ]
  },
  {
   "cell_type": "code",
   "execution_count": 7,
   "metadata": {},
   "outputs": [
    {
     "name": "stderr",
     "output_type": "stream",
     "text": [
      "/Users/hwanghyeongyu/miniforge3/envs/ai_learning/lib/python3.9/site-packages/optuna/progress_bar.py:49: ExperimentalWarning: Progress bar is experimental (supported from v1.2.0). The interface can change in the future.\n",
      "  self._init_valid()\n"
     ]
    },
    {
     "data": {
      "application/vnd.jupyter.widget-view+json": {
       "model_id": "df7c04a5e6ee47b2bcd1bcbafa8e625d",
       "version_major": 2,
       "version_minor": 0
      },
      "text/plain": [
       "  0%|          | 0/100 [00:00<?, ?it/s]"
      ]
     },
     "metadata": {},
     "output_type": "display_data"
    },
    {
     "name": "stdout",
     "output_type": "stream",
     "text": [
      "{'splitter': 'best', 'max_depth': 9, 'min_samples_split': 9, 'min_samples_leaf': 14, 'min_weight_fraction_leaf': 0.02803945023880025, 'min_impurity_decrease': 0.005005239944220596}\n"
     ]
    }
   ],
   "source": [
    "# Split the data into train and test\n",
    "X_train, X_test, y_train, y_test = train_test_split(X_model, Y_model, test_size=0.2, random_state=100)\n",
    "\n",
    "# Task: Hyperparameter tuning with Optuna\n",
    "def optimize(trial: Trial):\n",
    "    # Construct a DecisionTreeClassifier object\n",
    "    classifier = DecisionTreeClassifier(\n",
    "        criterion=\"gini\",\n",
    "        splitter=trial.suggest_categorical('splitter', ['best', 'random']),\n",
    "        max_depth=trial.suggest_int('max_depth', 1, 10),\n",
    "        min_samples_split=trial.suggest_int('min_samples_split', 2, 40),\n",
    "        min_samples_leaf=trial.suggest_int('min_samples_leaf', 1, 20),\n",
    "        min_weight_fraction_leaf=trial.suggest_float('min_weight_fraction_leaf', 0.0, 0.5),\n",
    "        random_state=100,\n",
    "        min_impurity_decrease=trial.suggest_float('min_impurity_decrease', 0.0, 0.5),\n",
    "        class_weight=\"balanced\", # Super imbalanced data\n",
    "    )\n",
    "\n",
    "    # Fit the model\n",
    "    classifier.fit(X_train, y_train)\n",
    "\n",
    "    # Predict the test data\n",
    "    # y_pred = classifier.predict(X_test)\n",
    "    y_pred_proba = classifier.predict_proba(X_test)\n",
    "\n",
    "    # Calculate the roc_auc_score\n",
    "    roc_value = roc_auc_score(y_test, y_pred_proba[:,1])\n",
    "\n",
    "    return roc_value\n",
    "\n",
    "optuna.logging.set_verbosity(optuna.logging.WARNING)\n",
    "study = optuna.create_study(direction=\"maximize\")\n",
    "study.optimize(optimize, show_progress_bar=True, n_trials=100)\n",
    "\n",
    "# Print the best parameters\n",
    "print(study.best_params)"
   ]
  },
  {
   "cell_type": "code",
   "execution_count": 8,
   "metadata": {},
   "outputs": [
    {
     "name": "stdout",
     "output_type": "stream",
     "text": [
      "ROC AUC score:  0.7681619400975984\n"
     ]
    }
   ],
   "source": [
    "classifier = DecisionTreeClassifier(\n",
    "    criterion=\"gini\",\n",
    "    splitter=study.best_params['splitter'],\n",
    "    max_depth=study.best_params['max_depth'],\n",
    "    min_samples_split=study.best_params['min_samples_split'],\n",
    "    min_samples_leaf=study.best_params['min_samples_leaf'],\n",
    "    min_weight_fraction_leaf=study.best_params['min_weight_fraction_leaf'],\n",
    "    random_state=100,\n",
    "    min_impurity_decrease=study.best_params['min_impurity_decrease'],\n",
    "    class_weight=\"balanced\", # Super imbalanced data\n",
    ")\n",
    "\n",
    "X_train, X_test, y_train, y_test = train_test_split(X_model, Y_model, test_size=0.2, random_state=100)\n",
    "\n",
    "# Fit the model\n",
    "classifier.fit(X_train, y_train)\n",
    "\n",
    "# Predict the test data\n",
    "# y_pred = classifier.predict(X_test)\n",
    "y_pred_proba = classifier.predict_proba(X_test)\n",
    "\n",
    "# Calculate the roc_auc_score\n",
    "roc_value = roc_auc_score(y_test, y_pred_proba[:,1])\n",
    "\n",
    "# Print the roc_auc_score\n",
    "print(\"ROC AUC score: \", roc_value)"
   ]
  }
 ],
 "metadata": {
  "kernelspec": {
   "display_name": "Python 3.9.7 ('ai_learning')",
   "language": "python",
   "name": "python3"
  },
  "language_info": {
   "codemirror_mode": {
    "name": "ipython",
    "version": 3
   },
   "file_extension": ".py",
   "mimetype": "text/x-python",
   "name": "python",
   "nbconvert_exporter": "python",
   "pygments_lexer": "ipython3",
   "version": "3.9.13"
  },
  "orig_nbformat": 4,
  "vscode": {
   "interpreter": {
    "hash": "3fbfc89dcf5742aaeef0feb656121d5a1cfee5cf52a7760ff9deb55a4a1d42e1"
   }
  }
 },
 "nbformat": 4,
 "nbformat_minor": 2
}
