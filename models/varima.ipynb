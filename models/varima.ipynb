{
 "cells": [
  {
   "cell_type": "code",
   "execution_count": 1,
   "metadata": {},
   "outputs": [],
   "source": [
    "from statsmodels.tsa.statespace.varmax import VARMAX\n",
    "import numpy as np\n",
    "import pandas as pd\n",
    "from sklearn.model_selection import train_test_split\n",
    "import warnings\n",
    "warnings.filterwarnings(\"ignore\")"
   ]
  },
  {
   "cell_type": "code",
   "execution_count": 3,
   "metadata": {},
   "outputs": [],
   "source": [
    "X_model = pd.read_csv('../data/X_model.csv')\n",
    "Y_model = pd.read_csv('../data/Y_model.csv')"
   ]
  },
  {
   "cell_type": "code",
   "execution_count": 4,
   "metadata": {},
   "outputs": [],
   "source": [
    "def VARMA_model(train,test):\n",
    "    # fit model\n",
    "    model = VARMAX(train, order=(1, 2))\n",
    "    model_fit = model.fit(disp=False)\n",
    "    # make prediction\n",
    "    yhat = model_fit.forecast(steps=len(test))\n",
    "    res=pd.DataFrame({\"Pred1\":yhat['Act1'], \"Pred2\":yhat['Act2'],\n",
    "                      \"Act1\":test[\"Act1\"].values, \"Act2\":test[\"Act2\"].values})\n",
    "    return res"
   ]
  },
  {
   "cell_type": "code",
   "execution_count": 5,
   "metadata": {},
   "outputs": [],
   "source": [
    "X_train, X_test, Y_train, Y_test = train_test_split(X_model, Y_model, test_size=0.2, random_state=42)"
   ]
  },
  {
   "cell_type": "code",
   "execution_count": 6,
   "metadata": {},
   "outputs": [
    {
     "ename": "KeyboardInterrupt",
     "evalue": "",
     "output_type": "error",
     "traceback": [
      "\u001b[0;31m---------------------------------------------------------------------------\u001b[0m",
      "\u001b[0;31mKeyboardInterrupt\u001b[0m                         Traceback (most recent call last)",
      "Cell \u001b[0;32mIn [6], line 1\u001b[0m\n\u001b[0;32m----> 1\u001b[0m result \u001b[39m=\u001b[39m VARMA_model(X_train, X_test)\n\u001b[1;32m      2\u001b[0m result\n",
      "Cell \u001b[0;32mIn [4], line 4\u001b[0m, in \u001b[0;36mVARMA_model\u001b[0;34m(train, test)\u001b[0m\n\u001b[1;32m      1\u001b[0m \u001b[39mdef\u001b[39;00m \u001b[39mVARMA_model\u001b[39m(train,test):\n\u001b[1;32m      2\u001b[0m     \u001b[39m# fit model\u001b[39;00m\n\u001b[1;32m      3\u001b[0m     model \u001b[39m=\u001b[39m VARMAX(train, order\u001b[39m=\u001b[39m(\u001b[39m1\u001b[39m, \u001b[39m2\u001b[39m))\n\u001b[0;32m----> 4\u001b[0m     model_fit \u001b[39m=\u001b[39m model\u001b[39m.\u001b[39;49mfit(disp\u001b[39m=\u001b[39;49m\u001b[39mFalse\u001b[39;49;00m)\n\u001b[1;32m      5\u001b[0m     \u001b[39m# make prediction\u001b[39;00m\n\u001b[1;32m      6\u001b[0m     yhat \u001b[39m=\u001b[39m model_fit\u001b[39m.\u001b[39mforecast(steps\u001b[39m=\u001b[39m\u001b[39mlen\u001b[39m(test))\n",
      "File \u001b[0;32m~/miniforge3/envs/ai_learning/lib/python3.9/site-packages/statsmodels/tsa/statespace/mlemodel.py:650\u001b[0m, in \u001b[0;36mMLEModel.fit\u001b[0;34m(self, start_params, transformed, includes_fixed, cov_type, cov_kwds, method, maxiter, full_output, disp, callback, return_params, optim_score, optim_complex_step, optim_hessian, flags, low_memory, **kwargs)\u001b[0m\n\u001b[1;32m    530\u001b[0m \u001b[39m\"\"\"\u001b[39;00m\n\u001b[1;32m    531\u001b[0m \u001b[39mFits the model by maximum likelihood via Kalman filter.\u001b[39;00m\n\u001b[1;32m    532\u001b[0m \n\u001b[0;32m   (...)\u001b[0m\n\u001b[1;32m    647\u001b[0m \u001b[39mstatsmodels.tsa.statespace.structural.UnobservedComponentsResults\u001b[39;00m\n\u001b[1;32m    648\u001b[0m \u001b[39m\"\"\"\u001b[39;00m\n\u001b[1;32m    649\u001b[0m \u001b[39mif\u001b[39;00m start_params \u001b[39mis\u001b[39;00m \u001b[39mNone\u001b[39;00m:\n\u001b[0;32m--> 650\u001b[0m     start_params \u001b[39m=\u001b[39m \u001b[39mself\u001b[39;49m\u001b[39m.\u001b[39;49mstart_params\n\u001b[1;32m    651\u001b[0m     transformed \u001b[39m=\u001b[39m \u001b[39mTrue\u001b[39;00m\n\u001b[1;32m    652\u001b[0m     includes_fixed \u001b[39m=\u001b[39m \u001b[39mTrue\u001b[39;00m\n",
      "File \u001b[0;32m~/miniforge3/envs/ai_learning/lib/python3.9/site-packages/statsmodels/tsa/statespace/varmax.py:326\u001b[0m, in \u001b[0;36mVARMAX.start_params\u001b[0;34m(self)\u001b[0m\n\u001b[1;32m    324\u001b[0m endog \u001b[39m=\u001b[39m pd\u001b[39m.\u001b[39mDataFrame(\u001b[39mself\u001b[39m\u001b[39m.\u001b[39mendog\u001b[39m.\u001b[39mcopy())\n\u001b[1;32m    325\u001b[0m endog \u001b[39m=\u001b[39m endog\u001b[39m.\u001b[39minterpolate()\n\u001b[0;32m--> 326\u001b[0m endog \u001b[39m=\u001b[39m endog\u001b[39m.\u001b[39;49mfillna(method\u001b[39m=\u001b[39;49m\u001b[39m'\u001b[39;49m\u001b[39mbackfill\u001b[39;49m\u001b[39m'\u001b[39;49m)\u001b[39m.\u001b[39mvalues\n\u001b[1;32m    327\u001b[0m exog \u001b[39m=\u001b[39m \u001b[39mNone\u001b[39;00m\n\u001b[1;32m    328\u001b[0m \u001b[39mif\u001b[39;00m \u001b[39mself\u001b[39m\u001b[39m.\u001b[39mk_trend \u001b[39m>\u001b[39m \u001b[39m0\u001b[39m \u001b[39mand\u001b[39;00m \u001b[39mself\u001b[39m\u001b[39m.\u001b[39mk_exog \u001b[39m>\u001b[39m \u001b[39m0\u001b[39m:\n",
      "File \u001b[0;32m~/miniforge3/envs/ai_learning/lib/python3.9/site-packages/pandas/util/_decorators.py:311\u001b[0m, in \u001b[0;36mdeprecate_nonkeyword_arguments.<locals>.decorate.<locals>.wrapper\u001b[0;34m(*args, **kwargs)\u001b[0m\n\u001b[1;32m    305\u001b[0m \u001b[39mif\u001b[39;00m \u001b[39mlen\u001b[39m(args) \u001b[39m>\u001b[39m num_allow_args:\n\u001b[1;32m    306\u001b[0m     warnings\u001b[39m.\u001b[39mwarn(\n\u001b[1;32m    307\u001b[0m         msg\u001b[39m.\u001b[39mformat(arguments\u001b[39m=\u001b[39marguments),\n\u001b[1;32m    308\u001b[0m         \u001b[39mFutureWarning\u001b[39;00m,\n\u001b[1;32m    309\u001b[0m         stacklevel\u001b[39m=\u001b[39mstacklevel,\n\u001b[1;32m    310\u001b[0m     )\n\u001b[0;32m--> 311\u001b[0m \u001b[39mreturn\u001b[39;00m func(\u001b[39m*\u001b[39;49margs, \u001b[39m*\u001b[39;49m\u001b[39m*\u001b[39;49mkwargs)\n",
      "File \u001b[0;32m~/miniforge3/envs/ai_learning/lib/python3.9/site-packages/pandas/core/frame.py:5223\u001b[0m, in \u001b[0;36mDataFrame.fillna\u001b[0;34m(self, value, method, axis, inplace, limit, downcast)\u001b[0m\n\u001b[1;32m   5212\u001b[0m \u001b[39m@deprecate_nonkeyword_arguments\u001b[39m(version\u001b[39m=\u001b[39m\u001b[39mNone\u001b[39;00m, allowed_args\u001b[39m=\u001b[39m[\u001b[39m\"\u001b[39m\u001b[39mself\u001b[39m\u001b[39m\"\u001b[39m, \u001b[39m\"\u001b[39m\u001b[39mvalue\u001b[39m\u001b[39m\"\u001b[39m])\n\u001b[1;32m   5213\u001b[0m \u001b[39m@doc\u001b[39m(NDFrame\u001b[39m.\u001b[39mfillna, \u001b[39m*\u001b[39m\u001b[39m*\u001b[39m_shared_doc_kwargs)\n\u001b[1;32m   5214\u001b[0m \u001b[39mdef\u001b[39;00m \u001b[39mfillna\u001b[39m(\n\u001b[0;32m   (...)\u001b[0m\n\u001b[1;32m   5221\u001b[0m     downcast\u001b[39m=\u001b[39m\u001b[39mNone\u001b[39;00m,\n\u001b[1;32m   5222\u001b[0m ) \u001b[39m-\u001b[39m\u001b[39m>\u001b[39m DataFrame \u001b[39m|\u001b[39m \u001b[39mNone\u001b[39;00m:\n\u001b[0;32m-> 5223\u001b[0m     \u001b[39mreturn\u001b[39;00m \u001b[39msuper\u001b[39;49m()\u001b[39m.\u001b[39;49mfillna(\n\u001b[1;32m   5224\u001b[0m         value\u001b[39m=\u001b[39;49mvalue,\n\u001b[1;32m   5225\u001b[0m         method\u001b[39m=\u001b[39;49mmethod,\n\u001b[1;32m   5226\u001b[0m         axis\u001b[39m=\u001b[39;49maxis,\n\u001b[1;32m   5227\u001b[0m         inplace\u001b[39m=\u001b[39;49minplace,\n\u001b[1;32m   5228\u001b[0m         limit\u001b[39m=\u001b[39;49mlimit,\n\u001b[1;32m   5229\u001b[0m         downcast\u001b[39m=\u001b[39;49mdowncast,\n\u001b[1;32m   5230\u001b[0m     )\n",
      "File \u001b[0;32m~/miniforge3/envs/ai_learning/lib/python3.9/site-packages/pandas/core/generic.py:6437\u001b[0m, in \u001b[0;36mNDFrame.fillna\u001b[0;34m(self, value, method, axis, inplace, limit, downcast)\u001b[0m\n\u001b[1;32m   6433\u001b[0m         result \u001b[39m=\u001b[39m \u001b[39mself\u001b[39m\u001b[39m.\u001b[39mT\u001b[39m.\u001b[39mfillna(method\u001b[39m=\u001b[39mmethod, limit\u001b[39m=\u001b[39mlimit)\u001b[39m.\u001b[39mT\n\u001b[1;32m   6435\u001b[0m         \u001b[39mreturn\u001b[39;00m result\n\u001b[0;32m-> 6437\u001b[0m     new_data \u001b[39m=\u001b[39m \u001b[39mself\u001b[39;49m\u001b[39m.\u001b[39;49m_mgr\u001b[39m.\u001b[39;49minterpolate(\n\u001b[1;32m   6438\u001b[0m         method\u001b[39m=\u001b[39;49mmethod,\n\u001b[1;32m   6439\u001b[0m         axis\u001b[39m=\u001b[39;49maxis,\n\u001b[1;32m   6440\u001b[0m         limit\u001b[39m=\u001b[39;49mlimit,\n\u001b[1;32m   6441\u001b[0m         inplace\u001b[39m=\u001b[39;49minplace,\n\u001b[1;32m   6442\u001b[0m         coerce\u001b[39m=\u001b[39;49m\u001b[39mTrue\u001b[39;49;00m,\n\u001b[1;32m   6443\u001b[0m         downcast\u001b[39m=\u001b[39;49mdowncast,\n\u001b[1;32m   6444\u001b[0m     )\n\u001b[1;32m   6445\u001b[0m \u001b[39melse\u001b[39;00m:\n\u001b[1;32m   6446\u001b[0m     \u001b[39mif\u001b[39;00m \u001b[39mself\u001b[39m\u001b[39m.\u001b[39mndim \u001b[39m==\u001b[39m \u001b[39m1\u001b[39m:\n",
      "File \u001b[0;32m~/miniforge3/envs/ai_learning/lib/python3.9/site-packages/pandas/core/internals/managers.py:359\u001b[0m, in \u001b[0;36mBaseBlockManager.interpolate\u001b[0;34m(self, **kwargs)\u001b[0m\n\u001b[1;32m    358\u001b[0m \u001b[39mdef\u001b[39;00m \u001b[39minterpolate\u001b[39m(\u001b[39mself\u001b[39m: T, \u001b[39m*\u001b[39m\u001b[39m*\u001b[39mkwargs) \u001b[39m-\u001b[39m\u001b[39m>\u001b[39m T:\n\u001b[0;32m--> 359\u001b[0m     \u001b[39mreturn\u001b[39;00m \u001b[39mself\u001b[39;49m\u001b[39m.\u001b[39;49mapply(\u001b[39m\"\u001b[39;49m\u001b[39minterpolate\u001b[39;49m\u001b[39m\"\u001b[39;49m, \u001b[39m*\u001b[39;49m\u001b[39m*\u001b[39;49mkwargs)\n",
      "File \u001b[0;32m~/miniforge3/envs/ai_learning/lib/python3.9/site-packages/pandas/core/internals/managers.py:304\u001b[0m, in \u001b[0;36mBaseBlockManager.apply\u001b[0;34m(self, f, align_keys, ignore_failures, **kwargs)\u001b[0m\n\u001b[1;32m    302\u001b[0m         applied \u001b[39m=\u001b[39m b\u001b[39m.\u001b[39mapply(f, \u001b[39m*\u001b[39m\u001b[39m*\u001b[39mkwargs)\n\u001b[1;32m    303\u001b[0m     \u001b[39melse\u001b[39;00m:\n\u001b[0;32m--> 304\u001b[0m         applied \u001b[39m=\u001b[39m \u001b[39mgetattr\u001b[39;49m(b, f)(\u001b[39m*\u001b[39;49m\u001b[39m*\u001b[39;49mkwargs)\n\u001b[1;32m    305\u001b[0m \u001b[39mexcept\u001b[39;00m (\u001b[39mTypeError\u001b[39;00m, \u001b[39mNotImplementedError\u001b[39;00m):\n\u001b[1;32m    306\u001b[0m     \u001b[39mif\u001b[39;00m \u001b[39mnot\u001b[39;00m ignore_failures:\n",
      "File \u001b[0;32m~/miniforge3/envs/ai_learning/lib/python3.9/site-packages/pandas/core/internals/blocks.py:1101\u001b[0m, in \u001b[0;36mBlock.interpolate\u001b[0;34m(self, method, axis, index, inplace, limit, limit_direction, limit_area, fill_value, coerce, downcast, **kwargs)\u001b[0m\n\u001b[1;32m   1098\u001b[0m data \u001b[39m=\u001b[39m \u001b[39mself\u001b[39m\u001b[39m.\u001b[39mvalues \u001b[39mif\u001b[39;00m inplace \u001b[39melse\u001b[39;00m \u001b[39mself\u001b[39m\u001b[39m.\u001b[39mvalues\u001b[39m.\u001b[39mcopy()\n\u001b[1;32m   1099\u001b[0m data \u001b[39m=\u001b[39m cast(np\u001b[39m.\u001b[39mndarray, data)  \u001b[39m# bc overridden by ExtensionBlock\u001b[39;00m\n\u001b[0;32m-> 1101\u001b[0m missing\u001b[39m.\u001b[39;49minterpolate_array_2d(\n\u001b[1;32m   1102\u001b[0m     data,\n\u001b[1;32m   1103\u001b[0m     method\u001b[39m=\u001b[39;49mmethod,\n\u001b[1;32m   1104\u001b[0m     axis\u001b[39m=\u001b[39;49maxis,\n\u001b[1;32m   1105\u001b[0m     index\u001b[39m=\u001b[39;49mindex,\n\u001b[1;32m   1106\u001b[0m     limit\u001b[39m=\u001b[39;49mlimit,\n\u001b[1;32m   1107\u001b[0m     limit_direction\u001b[39m=\u001b[39;49mlimit_direction,\n\u001b[1;32m   1108\u001b[0m     limit_area\u001b[39m=\u001b[39;49mlimit_area,\n\u001b[1;32m   1109\u001b[0m     fill_value\u001b[39m=\u001b[39;49mfill_value,\n\u001b[1;32m   1110\u001b[0m     \u001b[39m*\u001b[39;49m\u001b[39m*\u001b[39;49mkwargs,\n\u001b[1;32m   1111\u001b[0m )\n\u001b[1;32m   1113\u001b[0m nb \u001b[39m=\u001b[39m \u001b[39mself\u001b[39m\u001b[39m.\u001b[39mmake_block_same_class(data)\n\u001b[1;32m   1114\u001b[0m \u001b[39mreturn\u001b[39;00m nb\u001b[39m.\u001b[39m_maybe_downcast([nb], downcast)\n",
      "File \u001b[0;32m~/miniforge3/envs/ai_learning/lib/python3.9/site-packages/pandas/core/missing.py:239\u001b[0m, in \u001b[0;36minterpolate_array_2d\u001b[0;34m(data, method, axis, index, limit, limit_direction, limit_area, fill_value, coerce, downcast, **kwargs)\u001b[0m\n\u001b[1;32m    235\u001b[0m     \u001b[39mif\u001b[39;00m fill_value \u001b[39mis\u001b[39;00m \u001b[39mnot\u001b[39;00m \u001b[39mNone\u001b[39;00m:\n\u001b[1;32m    236\u001b[0m         \u001b[39m# similar to validate_fillna_kwargs\u001b[39;00m\n\u001b[1;32m    237\u001b[0m         \u001b[39mraise\u001b[39;00m \u001b[39mValueError\u001b[39;00m(\u001b[39m\"\u001b[39m\u001b[39mCannot pass both fill_value and method\u001b[39m\u001b[39m\"\u001b[39m)\n\u001b[0;32m--> 239\u001b[0m     interpolate_2d(\n\u001b[1;32m    240\u001b[0m         data,\n\u001b[1;32m    241\u001b[0m         method\u001b[39m=\u001b[39;49mm,\n\u001b[1;32m    242\u001b[0m         axis\u001b[39m=\u001b[39;49maxis,\n\u001b[1;32m    243\u001b[0m         limit\u001b[39m=\u001b[39;49mlimit,\n\u001b[1;32m    244\u001b[0m         limit_area\u001b[39m=\u001b[39;49mlimit_area,\n\u001b[1;32m    245\u001b[0m     )\n\u001b[1;32m    246\u001b[0m \u001b[39melse\u001b[39;00m:\n\u001b[1;32m    247\u001b[0m     \u001b[39massert\u001b[39;00m index \u001b[39mis\u001b[39;00m \u001b[39mnot\u001b[39;00m \u001b[39mNone\u001b[39;00m  \u001b[39m# for mypy\u001b[39;00m\n",
      "File \u001b[0;32m~/miniforge3/envs/ai_learning/lib/python3.9/site-packages/pandas/core/missing.py:818\u001b[0m, in \u001b[0;36minterpolate_2d\u001b[0;34m(values, method, axis, limit, limit_area)\u001b[0m\n\u001b[1;32m    816\u001b[0m     _pad_2d(tvalues, limit\u001b[39m=\u001b[39mlimit)\n\u001b[1;32m    817\u001b[0m \u001b[39melse\u001b[39;00m:\n\u001b[0;32m--> 818\u001b[0m     _backfill_2d(tvalues, limit\u001b[39m=\u001b[39;49mlimit)\n\u001b[1;32m    820\u001b[0m \u001b[39mreturn\u001b[39;00m\n",
      "File \u001b[0;32m~/miniforge3/envs/ai_learning/lib/python3.9/site-packages/pandas/core/missing.py:850\u001b[0m, in \u001b[0;36m_datetimelike_compat.<locals>.new_func\u001b[0;34m(values, limit, mask)\u001b[0m\n\u001b[1;32m    847\u001b[0m     result, mask \u001b[39m=\u001b[39m func(values\u001b[39m.\u001b[39mview(\u001b[39m\"\u001b[39m\u001b[39mi8\u001b[39m\u001b[39m\"\u001b[39m), limit\u001b[39m=\u001b[39mlimit, mask\u001b[39m=\u001b[39mmask)\n\u001b[1;32m    848\u001b[0m     \u001b[39mreturn\u001b[39;00m result\u001b[39m.\u001b[39mview(values\u001b[39m.\u001b[39mdtype), mask\n\u001b[0;32m--> 850\u001b[0m \u001b[39mreturn\u001b[39;00m func(values, limit\u001b[39m=\u001b[39;49mlimit, mask\u001b[39m=\u001b[39;49mmask)\n",
      "File \u001b[0;32m~/miniforge3/envs/ai_learning/lib/python3.9/site-packages/pandas/core/missing.py:894\u001b[0m, in \u001b[0;36m_backfill_2d\u001b[0;34m(values, limit, mask)\u001b[0m\n\u001b[1;32m    891\u001b[0m mask \u001b[39m=\u001b[39m _fillna_prep(values, mask)\n\u001b[1;32m    893\u001b[0m \u001b[39mif\u001b[39;00m np\u001b[39m.\u001b[39mall(values\u001b[39m.\u001b[39mshape):\n\u001b[0;32m--> 894\u001b[0m     algos\u001b[39m.\u001b[39;49mbackfill_2d_inplace(values, mask, limit\u001b[39m=\u001b[39;49mlimit)\n\u001b[1;32m    895\u001b[0m \u001b[39melse\u001b[39;00m:\n\u001b[1;32m    896\u001b[0m     \u001b[39m# for test coverage\u001b[39;00m\n\u001b[1;32m    897\u001b[0m     \u001b[39mpass\u001b[39;00m\n",
      "\u001b[0;31mKeyboardInterrupt\u001b[0m: "
     ]
    }
   ],
   "source": [
    "result = VARMA_model(X_train, X_test)\n",
    "result"
   ]
  }
 ],
 "metadata": {
  "kernelspec": {
   "display_name": "ai_learning",
   "language": "python",
   "name": "python3"
  },
  "language_info": {
   "codemirror_mode": {
    "name": "ipython",
    "version": 3
   },
   "file_extension": ".py",
   "mimetype": "text/x-python",
   "name": "python",
   "nbconvert_exporter": "python",
   "pygments_lexer": "ipython3",
   "version": "3.9.13"
  },
  "orig_nbformat": 4,
  "vscode": {
   "interpreter": {
    "hash": "3fbfc89dcf5742aaeef0feb656121d5a1cfee5cf52a7760ff9deb55a4a1d42e1"
   }
  }
 },
 "nbformat": 4,
 "nbformat_minor": 2
}
