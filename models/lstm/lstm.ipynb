{
 "cells": [
  {
   "cell_type": "code",
   "execution_count": 3,
   "metadata": {},
   "outputs": [],
   "source": [
    "import numpy as np\n",
    "import pandas as pd\n",
    "from sklearn.model_selection import train_test_split\n",
    "from keras.models import Sequential\n",
    "from keras.layers import Dense, LSTM, Dropout, Activation\n",
    "from keras.metrics import AUC\n",
    "from keras.callbacks import EarlyStopping, ModelCheckpoint\n",
    "from matplotlib import pyplot"
   ]
  },
  {
   "cell_type": "code",
   "execution_count": 4,
   "metadata": {},
   "outputs": [
    {
     "name": "stdout",
     "output_type": "stream",
     "text": [
      "Loading data...\n"
     ]
    }
   ],
   "source": [
    "# Data Loading\n",
    "print(\"Loading data...\")\n",
    "X_model = np.load('../../data/X_timeseries_expanded.npy.zip')\n",
    "Y_model = pd.read_csv('../../data/Y_model.csv').values"
   ]
  },
  {
   "cell_type": "code",
   "execution_count": 5,
   "metadata": {},
   "outputs": [
    {
     "name": "stdout",
     "output_type": "stream",
     "text": [
      "Splitting data...\n"
     ]
    }
   ],
   "source": [
    "# Train Test Split\n",
    "print(\"Splitting data...\")\n",
    "X_train, X_test, y_train, y_test = train_test_split(X_model['X_timeseries_expanded'], Y_model, test_size=0.2, random_state=42)"
   ]
  },
  {
   "cell_type": "code",
   "execution_count": 6,
   "metadata": {},
   "outputs": [
    {
     "name": "stderr",
     "output_type": "stream",
     "text": [
      "2022-12-15 06:39:19.585477: I tensorflow/core/common_runtime/pluggable_device/pluggable_device_factory.cc:305] Could not identify NUMA node of platform GPU ID 0, defaulting to 0. Your kernel may not have been built with NUMA support.\n",
      "2022-12-15 06:39:19.586003: I tensorflow/core/common_runtime/pluggable_device/pluggable_device_factory.cc:271] Created TensorFlow device (/job:localhost/replica:0/task:0/device:GPU:0 with 0 MB memory) -> physical PluggableDevice (device: 0, name: METAL, pci bus id: <undefined>)\n"
     ]
    },
    {
     "name": "stdout",
     "output_type": "stream",
     "text": [
      "Metal device set to: Apple M1\n",
      "\n",
      "systemMemory: 16.00 GB\n",
      "maxCacheSize: 5.33 GB\n",
      "\n"
     ]
    }
   ],
   "source": [
    "# design network\n",
    "# References: \n",
    "# - https://towardsdatascience.com/choosing-the-right-hyperparameters-for-a-simple-lstm-using-keras-f8e9ed76f046\n",
    "# - https://stats.stackexchange.com/questions/242238/what-is-considered-a-normal-quantity-of-outliers\n",
    "# - https://machinelearningmastery.com/multivariate-time-series-forecasting-lstms-keras/\n",
    "hidden_nodes = int(2/3 * (X_train.shape[1] * X_train.shape[2]))\n",
    "model = Sequential()\n",
    "model.add(LSTM(hidden_nodes, input_shape=(X_train.shape[1], X_train.shape[2])))\n",
    "model.add(Dropout(0.2))\n",
    "model.add(Dense(1, activation=\"sigmoid\"))\n",
    "model.compile(\n",
    "    loss='mae',\n",
    "    optimizer='adam',\n",
    "    metrics=[AUC()]\n",
    ")"
   ]
  },
  {
   "cell_type": "code",
   "execution_count": 7,
   "metadata": {},
   "outputs": [
    {
     "name": "stdout",
     "output_type": "stream",
     "text": [
      "Training model...\n",
      "Epoch 1/50\n"
     ]
    },
    {
     "name": "stderr",
     "output_type": "stream",
     "text": [
      "2022-12-15 06:39:31.359019: W tensorflow/core/platform/profile_utils/cpu_utils.cc:128] Failed to get CPU frequency: 0 Hz\n",
      "2022-12-15 06:39:31.886081: I tensorflow/core/grappler/optimizers/custom_graph_optimizer_registry.cc:113] Plugin optimizer for device_type GPU is enabled.\n",
      "2022-12-15 06:39:32.121167: I tensorflow/core/grappler/optimizers/custom_graph_optimizer_registry.cc:113] Plugin optimizer for device_type GPU is enabled.\n",
      "2022-12-15 06:39:32.759161: I tensorflow/core/grappler/optimizers/custom_graph_optimizer_registry.cc:113] Plugin optimizer for device_type GPU is enabled.\n"
     ]
    },
    {
     "name": "stdout",
     "output_type": "stream",
     "text": [
      " 1427/20000 [=>............................] - ETA: 4:16:51 - loss: 0.0655 - auc: 0.5003"
     ]
    },
    {
     "ename": "InvalidArgumentError",
     "evalue": "Graph execution error:\n\nDetected at node 'assert_greater_equal/Assert/AssertGuard/Assert' defined at (most recent call last):\n    File \"/Users/hwanghyeongyu/miniforge3/envs/ai_learning/lib/python3.9/runpy.py\", line 197, in _run_module_as_main\n      return _run_code(code, main_globals, None,\n    File \"/Users/hwanghyeongyu/miniforge3/envs/ai_learning/lib/python3.9/runpy.py\", line 87, in _run_code\n      exec(code, run_globals)\n    File \"/Users/hwanghyeongyu/miniforge3/envs/ai_learning/lib/python3.9/site-packages/ipykernel_launcher.py\", line 17, in <module>\n      app.launch_new_instance()\n    File \"/Users/hwanghyeongyu/miniforge3/envs/ai_learning/lib/python3.9/site-packages/traitlets/config/application.py\", line 992, in launch_instance\n      app.start()\n    File \"/Users/hwanghyeongyu/miniforge3/envs/ai_learning/lib/python3.9/site-packages/ipykernel/kernelapp.py\", line 711, in start\n      self.io_loop.start()\n    File \"/Users/hwanghyeongyu/miniforge3/envs/ai_learning/lib/python3.9/site-packages/tornado/platform/asyncio.py\", line 215, in start\n      self.asyncio_loop.run_forever()\n    File \"/Users/hwanghyeongyu/miniforge3/envs/ai_learning/lib/python3.9/asyncio/base_events.py\", line 601, in run_forever\n      self._run_once()\n    File \"/Users/hwanghyeongyu/miniforge3/envs/ai_learning/lib/python3.9/asyncio/base_events.py\", line 1905, in _run_once\n      handle._run()\n    File \"/Users/hwanghyeongyu/miniforge3/envs/ai_learning/lib/python3.9/asyncio/events.py\", line 80, in _run\n      self._context.run(self._callback, *self._args)\n    File \"/Users/hwanghyeongyu/miniforge3/envs/ai_learning/lib/python3.9/site-packages/ipykernel/kernelbase.py\", line 510, in dispatch_queue\n      await self.process_one()\n    File \"/Users/hwanghyeongyu/miniforge3/envs/ai_learning/lib/python3.9/site-packages/ipykernel/kernelbase.py\", line 499, in process_one\n      await dispatch(*args)\n    File \"/Users/hwanghyeongyu/miniforge3/envs/ai_learning/lib/python3.9/site-packages/ipykernel/kernelbase.py\", line 406, in dispatch_shell\n      await result\n    File \"/Users/hwanghyeongyu/miniforge3/envs/ai_learning/lib/python3.9/site-packages/ipykernel/kernelbase.py\", line 729, in execute_request\n      reply_content = await reply_content\n    File \"/Users/hwanghyeongyu/miniforge3/envs/ai_learning/lib/python3.9/site-packages/ipykernel/ipkernel.py\", line 411, in do_execute\n      res = shell.run_cell(\n    File \"/Users/hwanghyeongyu/miniforge3/envs/ai_learning/lib/python3.9/site-packages/ipykernel/zmqshell.py\", line 531, in run_cell\n      return super().run_cell(*args, **kwargs)\n    File \"/Users/hwanghyeongyu/miniforge3/envs/ai_learning/lib/python3.9/site-packages/IPython/core/interactiveshell.py\", line 2940, in run_cell\n      result = self._run_cell(\n    File \"/Users/hwanghyeongyu/miniforge3/envs/ai_learning/lib/python3.9/site-packages/IPython/core/interactiveshell.py\", line 2995, in _run_cell\n      return runner(coro)\n    File \"/Users/hwanghyeongyu/miniforge3/envs/ai_learning/lib/python3.9/site-packages/IPython/core/async_helpers.py\", line 129, in _pseudo_sync_runner\n      coro.send(None)\n    File \"/Users/hwanghyeongyu/miniforge3/envs/ai_learning/lib/python3.9/site-packages/IPython/core/interactiveshell.py\", line 3194, in run_cell_async\n      has_raised = await self.run_ast_nodes(code_ast.body, cell_name,\n    File \"/Users/hwanghyeongyu/miniforge3/envs/ai_learning/lib/python3.9/site-packages/IPython/core/interactiveshell.py\", line 3373, in run_ast_nodes\n      if await self.run_code(code, result, async_=asy):\n    File \"/Users/hwanghyeongyu/miniforge3/envs/ai_learning/lib/python3.9/site-packages/IPython/core/interactiveshell.py\", line 3433, in run_code\n      exec(code_obj, self.user_global_ns, self.user_ns)\n    File \"/var/folders/xf/sy2fwpl54bzcxvmkf38nzntw0000gn/T/ipykernel_24628/1196816062.py\", line 2, in <module>\n      history = model.fit(\n    File \"/Users/hwanghyeongyu/miniforge3/envs/ai_learning/lib/python3.9/site-packages/keras/utils/traceback_utils.py\", line 64, in error_handler\n      return fn(*args, **kwargs)\n    File \"/Users/hwanghyeongyu/miniforge3/envs/ai_learning/lib/python3.9/site-packages/keras/engine/training.py\", line 1384, in fit\n      tmp_logs = self.train_function(iterator)\n    File \"/Users/hwanghyeongyu/miniforge3/envs/ai_learning/lib/python3.9/site-packages/keras/engine/training.py\", line 1021, in train_function\n      return step_function(self, iterator)\n    File \"/Users/hwanghyeongyu/miniforge3/envs/ai_learning/lib/python3.9/site-packages/keras/engine/training.py\", line 1010, in step_function\n      outputs = model.distribute_strategy.run(run_step, args=(data,))\n    File \"/Users/hwanghyeongyu/miniforge3/envs/ai_learning/lib/python3.9/site-packages/keras/engine/training.py\", line 1000, in run_step\n      outputs = model.train_step(data)\n    File \"/Users/hwanghyeongyu/miniforge3/envs/ai_learning/lib/python3.9/site-packages/keras/engine/training.py\", line 864, in train_step\n      return self.compute_metrics(x, y, y_pred, sample_weight)\n    File \"/Users/hwanghyeongyu/miniforge3/envs/ai_learning/lib/python3.9/site-packages/keras/engine/training.py\", line 957, in compute_metrics\n      self.compiled_metrics.update_state(y, y_pred, sample_weight)\n    File \"/Users/hwanghyeongyu/miniforge3/envs/ai_learning/lib/python3.9/site-packages/keras/engine/compile_utils.py\", line 459, in update_state\n      metric_obj.update_state(y_t, y_p, sample_weight=mask)\n    File \"/Users/hwanghyeongyu/miniforge3/envs/ai_learning/lib/python3.9/site-packages/keras/utils/metrics_utils.py\", line 70, in decorated\n      update_op = update_state_fn(*args, **kwargs)\n    File \"/Users/hwanghyeongyu/miniforge3/envs/ai_learning/lib/python3.9/site-packages/keras/metrics.py\", line 178, in update_state_fn\n      return ag_update_state(*args, **kwargs)\n    File \"/Users/hwanghyeongyu/miniforge3/envs/ai_learning/lib/python3.9/site-packages/keras/metrics.py\", line 2347, in update_state\n      return metrics_utils.update_confusion_matrix_variables(\n    File \"/Users/hwanghyeongyu/miniforge3/envs/ai_learning/lib/python3.9/site-packages/keras/utils/metrics_utils.py\", line 602, in update_confusion_matrix_variables\n      tf.compat.v1.assert_greater_equal(\nNode: 'assert_greater_equal/Assert/AssertGuard/Assert'\nDetected at node 'assert_greater_equal/Assert/AssertGuard/Assert' defined at (most recent call last):\n    File \"/Users/hwanghyeongyu/miniforge3/envs/ai_learning/lib/python3.9/runpy.py\", line 197, in _run_module_as_main\n      return _run_code(code, main_globals, None,\n    File \"/Users/hwanghyeongyu/miniforge3/envs/ai_learning/lib/python3.9/runpy.py\", line 87, in _run_code\n      exec(code, run_globals)\n    File \"/Users/hwanghyeongyu/miniforge3/envs/ai_learning/lib/python3.9/site-packages/ipykernel_launcher.py\", line 17, in <module>\n      app.launch_new_instance()\n    File \"/Users/hwanghyeongyu/miniforge3/envs/ai_learning/lib/python3.9/site-packages/traitlets/config/application.py\", line 992, in launch_instance\n      app.start()\n    File \"/Users/hwanghyeongyu/miniforge3/envs/ai_learning/lib/python3.9/site-packages/ipykernel/kernelapp.py\", line 711, in start\n      self.io_loop.start()\n    File \"/Users/hwanghyeongyu/miniforge3/envs/ai_learning/lib/python3.9/site-packages/tornado/platform/asyncio.py\", line 215, in start\n      self.asyncio_loop.run_forever()\n    File \"/Users/hwanghyeongyu/miniforge3/envs/ai_learning/lib/python3.9/asyncio/base_events.py\", line 601, in run_forever\n      self._run_once()\n    File \"/Users/hwanghyeongyu/miniforge3/envs/ai_learning/lib/python3.9/asyncio/base_events.py\", line 1905, in _run_once\n      handle._run()\n    File \"/Users/hwanghyeongyu/miniforge3/envs/ai_learning/lib/python3.9/asyncio/events.py\", line 80, in _run\n      self._context.run(self._callback, *self._args)\n    File \"/Users/hwanghyeongyu/miniforge3/envs/ai_learning/lib/python3.9/site-packages/ipykernel/kernelbase.py\", line 510, in dispatch_queue\n      await self.process_one()\n    File \"/Users/hwanghyeongyu/miniforge3/envs/ai_learning/lib/python3.9/site-packages/ipykernel/kernelbase.py\", line 499, in process_one\n      await dispatch(*args)\n    File \"/Users/hwanghyeongyu/miniforge3/envs/ai_learning/lib/python3.9/site-packages/ipykernel/kernelbase.py\", line 406, in dispatch_shell\n      await result\n    File \"/Users/hwanghyeongyu/miniforge3/envs/ai_learning/lib/python3.9/site-packages/ipykernel/kernelbase.py\", line 729, in execute_request\n      reply_content = await reply_content\n    File \"/Users/hwanghyeongyu/miniforge3/envs/ai_learning/lib/python3.9/site-packages/ipykernel/ipkernel.py\", line 411, in do_execute\n      res = shell.run_cell(\n    File \"/Users/hwanghyeongyu/miniforge3/envs/ai_learning/lib/python3.9/site-packages/ipykernel/zmqshell.py\", line 531, in run_cell\n      return super().run_cell(*args, **kwargs)\n    File \"/Users/hwanghyeongyu/miniforge3/envs/ai_learning/lib/python3.9/site-packages/IPython/core/interactiveshell.py\", line 2940, in run_cell\n      result = self._run_cell(\n    File \"/Users/hwanghyeongyu/miniforge3/envs/ai_learning/lib/python3.9/site-packages/IPython/core/interactiveshell.py\", line 2995, in _run_cell\n      return runner(coro)\n    File \"/Users/hwanghyeongyu/miniforge3/envs/ai_learning/lib/python3.9/site-packages/IPython/core/async_helpers.py\", line 129, in _pseudo_sync_runner\n      coro.send(None)\n    File \"/Users/hwanghyeongyu/miniforge3/envs/ai_learning/lib/python3.9/site-packages/IPython/core/interactiveshell.py\", line 3194, in run_cell_async\n      has_raised = await self.run_ast_nodes(code_ast.body, cell_name,\n    File \"/Users/hwanghyeongyu/miniforge3/envs/ai_learning/lib/python3.9/site-packages/IPython/core/interactiveshell.py\", line 3373, in run_ast_nodes\n      if await self.run_code(code, result, async_=asy):\n    File \"/Users/hwanghyeongyu/miniforge3/envs/ai_learning/lib/python3.9/site-packages/IPython/core/interactiveshell.py\", line 3433, in run_code\n      exec(code_obj, self.user_global_ns, self.user_ns)\n    File \"/var/folders/xf/sy2fwpl54bzcxvmkf38nzntw0000gn/T/ipykernel_24628/1196816062.py\", line 2, in <module>\n      history = model.fit(\n    File \"/Users/hwanghyeongyu/miniforge3/envs/ai_learning/lib/python3.9/site-packages/keras/utils/traceback_utils.py\", line 64, in error_handler\n      return fn(*args, **kwargs)\n    File \"/Users/hwanghyeongyu/miniforge3/envs/ai_learning/lib/python3.9/site-packages/keras/engine/training.py\", line 1384, in fit\n      tmp_logs = self.train_function(iterator)\n    File \"/Users/hwanghyeongyu/miniforge3/envs/ai_learning/lib/python3.9/site-packages/keras/engine/training.py\", line 1021, in train_function\n      return step_function(self, iterator)\n    File \"/Users/hwanghyeongyu/miniforge3/envs/ai_learning/lib/python3.9/site-packages/keras/engine/training.py\", line 1010, in step_function\n      outputs = model.distribute_strategy.run(run_step, args=(data,))\n    File \"/Users/hwanghyeongyu/miniforge3/envs/ai_learning/lib/python3.9/site-packages/keras/engine/training.py\", line 1000, in run_step\n      outputs = model.train_step(data)\n    File \"/Users/hwanghyeongyu/miniforge3/envs/ai_learning/lib/python3.9/site-packages/keras/engine/training.py\", line 864, in train_step\n      return self.compute_metrics(x, y, y_pred, sample_weight)\n    File \"/Users/hwanghyeongyu/miniforge3/envs/ai_learning/lib/python3.9/site-packages/keras/engine/training.py\", line 957, in compute_metrics\n      self.compiled_metrics.update_state(y, y_pred, sample_weight)\n    File \"/Users/hwanghyeongyu/miniforge3/envs/ai_learning/lib/python3.9/site-packages/keras/engine/compile_utils.py\", line 459, in update_state\n      metric_obj.update_state(y_t, y_p, sample_weight=mask)\n    File \"/Users/hwanghyeongyu/miniforge3/envs/ai_learning/lib/python3.9/site-packages/keras/utils/metrics_utils.py\", line 70, in decorated\n      update_op = update_state_fn(*args, **kwargs)\n    File \"/Users/hwanghyeongyu/miniforge3/envs/ai_learning/lib/python3.9/site-packages/keras/metrics.py\", line 178, in update_state_fn\n      return ag_update_state(*args, **kwargs)\n    File \"/Users/hwanghyeongyu/miniforge3/envs/ai_learning/lib/python3.9/site-packages/keras/metrics.py\", line 2347, in update_state\n      return metrics_utils.update_confusion_matrix_variables(\n    File \"/Users/hwanghyeongyu/miniforge3/envs/ai_learning/lib/python3.9/site-packages/keras/utils/metrics_utils.py\", line 602, in update_confusion_matrix_variables\n      tf.compat.v1.assert_greater_equal(\nNode: 'assert_greater_equal/Assert/AssertGuard/Assert'\n2 root error(s) found.\n  (0) INVALID_ARGUMENT:  assertion failed: [predictions must be >= 0] [Condition x >= y did not hold element-wise:] [x (sequential/dense/Sigmoid:0) = ] [[9.47553264e-22][2.33686853e-22][4.74968229e-22]...] [y (Cast_3/x:0) = ] [0]\n\t [[{{node assert_greater_equal/Assert/AssertGuard/Assert}}]]\n\t [[assert_less_equal/Assert/AssertGuard/pivot_f/_13/_63]]\n  (1) INVALID_ARGUMENT:  assertion failed: [predictions must be >= 0] [Condition x >= y did not hold element-wise:] [x (sequential/dense/Sigmoid:0) = ] [[9.47553264e-22][2.33686853e-22][4.74968229e-22]...] [y (Cast_3/x:0) = ] [0]\n\t [[{{node assert_greater_equal/Assert/AssertGuard/Assert}}]]\n0 successful operations.\n0 derived errors ignored. [Op:__inference_train_function_2820]",
     "output_type": "error",
     "traceback": [
      "\u001b[0;31m---------------------------------------------------------------------------\u001b[0m",
      "\u001b[0;31mInvalidArgumentError\u001b[0m                      Traceback (most recent call last)",
      "Cell \u001b[0;32mIn[7], line 2\u001b[0m\n\u001b[1;32m      1\u001b[0m \u001b[39mprint\u001b[39m(\u001b[39m\"\u001b[39m\u001b[39mTraining model...\u001b[39m\u001b[39m\"\u001b[39m)\n\u001b[0;32m----> 2\u001b[0m history \u001b[39m=\u001b[39m model\u001b[39m.\u001b[39;49mfit(\n\u001b[1;32m      3\u001b[0m     X_train,\n\u001b[1;32m      4\u001b[0m     y_train,\n\u001b[1;32m      5\u001b[0m     epochs\u001b[39m=\u001b[39;49m\u001b[39m50\u001b[39;49m,\n\u001b[1;32m      6\u001b[0m     batch_size\u001b[39m=\u001b[39;49m\u001b[39m32\u001b[39;49m,\n\u001b[1;32m      7\u001b[0m     validation_data\u001b[39m=\u001b[39;49m(X_test, y_test), \n\u001b[1;32m      8\u001b[0m     verbose\u001b[39m=\u001b[39;49m\u001b[39m1\u001b[39;49m,\n\u001b[1;32m      9\u001b[0m     shuffle\u001b[39m=\u001b[39;49m\u001b[39mFalse\u001b[39;49;00m,\n\u001b[1;32m     10\u001b[0m     callbacks\u001b[39m=\u001b[39;49m[\n\u001b[1;32m     11\u001b[0m         EarlyStopping(\n\u001b[1;32m     12\u001b[0m             monitor\u001b[39m=\u001b[39;49m\u001b[39m'\u001b[39;49m\u001b[39mval_auc\u001b[39;49m\u001b[39m'\u001b[39;49m,\n\u001b[1;32m     13\u001b[0m             mode\u001b[39m=\u001b[39;49m\u001b[39m'\u001b[39;49m\u001b[39mmax\u001b[39;49m\u001b[39m'\u001b[39;49m,\n\u001b[1;32m     14\u001b[0m             patience\u001b[39m=\u001b[39;49m\u001b[39m3\u001b[39;49m,\n\u001b[1;32m     15\u001b[0m         ),\n\u001b[1;32m     16\u001b[0m         ModelCheckpoint(\n\u001b[1;32m     17\u001b[0m             \u001b[39m'\u001b[39;49m\u001b[39mlstm.h5\u001b[39;49m\u001b[39m'\u001b[39;49m,\n\u001b[1;32m     18\u001b[0m             save_best_only\u001b[39m=\u001b[39;49m\u001b[39mTrue\u001b[39;49;00m,\n\u001b[1;32m     19\u001b[0m             monitor\u001b[39m=\u001b[39;49m\u001b[39m'\u001b[39;49m\u001b[39mval_auc\u001b[39;49m\u001b[39m'\u001b[39;49m,\n\u001b[1;32m     20\u001b[0m             mode\u001b[39m=\u001b[39;49m\u001b[39m'\u001b[39;49m\u001b[39mmax\u001b[39;49m\u001b[39m'\u001b[39;49m\n\u001b[1;32m     21\u001b[0m         )\n\u001b[1;32m     22\u001b[0m     ]\n\u001b[1;32m     23\u001b[0m )\n",
      "File \u001b[0;32m~/miniforge3/envs/ai_learning/lib/python3.9/site-packages/keras/utils/traceback_utils.py:67\u001b[0m, in \u001b[0;36mfilter_traceback.<locals>.error_handler\u001b[0;34m(*args, **kwargs)\u001b[0m\n\u001b[1;32m     65\u001b[0m \u001b[39mexcept\u001b[39;00m \u001b[39mException\u001b[39;00m \u001b[39mas\u001b[39;00m e:  \u001b[39m# pylint: disable=broad-except\u001b[39;00m\n\u001b[1;32m     66\u001b[0m   filtered_tb \u001b[39m=\u001b[39m _process_traceback_frames(e\u001b[39m.\u001b[39m__traceback__)\n\u001b[0;32m---> 67\u001b[0m   \u001b[39mraise\u001b[39;00m e\u001b[39m.\u001b[39mwith_traceback(filtered_tb) \u001b[39mfrom\u001b[39;00m \u001b[39mNone\u001b[39m\n\u001b[1;32m     68\u001b[0m \u001b[39mfinally\u001b[39;00m:\n\u001b[1;32m     69\u001b[0m   \u001b[39mdel\u001b[39;00m filtered_tb\n",
      "File \u001b[0;32m~/miniforge3/envs/ai_learning/lib/python3.9/site-packages/tensorflow/python/eager/execute.py:54\u001b[0m, in \u001b[0;36mquick_execute\u001b[0;34m(op_name, num_outputs, inputs, attrs, ctx, name)\u001b[0m\n\u001b[1;32m     52\u001b[0m \u001b[39mtry\u001b[39;00m:\n\u001b[1;32m     53\u001b[0m   ctx\u001b[39m.\u001b[39mensure_initialized()\n\u001b[0;32m---> 54\u001b[0m   tensors \u001b[39m=\u001b[39m pywrap_tfe\u001b[39m.\u001b[39mTFE_Py_Execute(ctx\u001b[39m.\u001b[39m_handle, device_name, op_name,\n\u001b[1;32m     55\u001b[0m                                       inputs, attrs, num_outputs)\n\u001b[1;32m     56\u001b[0m \u001b[39mexcept\u001b[39;00m core\u001b[39m.\u001b[39m_NotOkStatusException \u001b[39mas\u001b[39;00m e:\n\u001b[1;32m     57\u001b[0m   \u001b[39mif\u001b[39;00m name \u001b[39mis\u001b[39;00m \u001b[39mnot\u001b[39;00m \u001b[39mNone\u001b[39;00m:\n",
      "\u001b[0;31mInvalidArgumentError\u001b[0m: Graph execution error:\n\nDetected at node 'assert_greater_equal/Assert/AssertGuard/Assert' defined at (most recent call last):\n    File \"/Users/hwanghyeongyu/miniforge3/envs/ai_learning/lib/python3.9/runpy.py\", line 197, in _run_module_as_main\n      return _run_code(code, main_globals, None,\n    File \"/Users/hwanghyeongyu/miniforge3/envs/ai_learning/lib/python3.9/runpy.py\", line 87, in _run_code\n      exec(code, run_globals)\n    File \"/Users/hwanghyeongyu/miniforge3/envs/ai_learning/lib/python3.9/site-packages/ipykernel_launcher.py\", line 17, in <module>\n      app.launch_new_instance()\n    File \"/Users/hwanghyeongyu/miniforge3/envs/ai_learning/lib/python3.9/site-packages/traitlets/config/application.py\", line 992, in launch_instance\n      app.start()\n    File \"/Users/hwanghyeongyu/miniforge3/envs/ai_learning/lib/python3.9/site-packages/ipykernel/kernelapp.py\", line 711, in start\n      self.io_loop.start()\n    File \"/Users/hwanghyeongyu/miniforge3/envs/ai_learning/lib/python3.9/site-packages/tornado/platform/asyncio.py\", line 215, in start\n      self.asyncio_loop.run_forever()\n    File \"/Users/hwanghyeongyu/miniforge3/envs/ai_learning/lib/python3.9/asyncio/base_events.py\", line 601, in run_forever\n      self._run_once()\n    File \"/Users/hwanghyeongyu/miniforge3/envs/ai_learning/lib/python3.9/asyncio/base_events.py\", line 1905, in _run_once\n      handle._run()\n    File \"/Users/hwanghyeongyu/miniforge3/envs/ai_learning/lib/python3.9/asyncio/events.py\", line 80, in _run\n      self._context.run(self._callback, *self._args)\n    File \"/Users/hwanghyeongyu/miniforge3/envs/ai_learning/lib/python3.9/site-packages/ipykernel/kernelbase.py\", line 510, in dispatch_queue\n      await self.process_one()\n    File \"/Users/hwanghyeongyu/miniforge3/envs/ai_learning/lib/python3.9/site-packages/ipykernel/kernelbase.py\", line 499, in process_one\n      await dispatch(*args)\n    File \"/Users/hwanghyeongyu/miniforge3/envs/ai_learning/lib/python3.9/site-packages/ipykernel/kernelbase.py\", line 406, in dispatch_shell\n      await result\n    File \"/Users/hwanghyeongyu/miniforge3/envs/ai_learning/lib/python3.9/site-packages/ipykernel/kernelbase.py\", line 729, in execute_request\n      reply_content = await reply_content\n    File \"/Users/hwanghyeongyu/miniforge3/envs/ai_learning/lib/python3.9/site-packages/ipykernel/ipkernel.py\", line 411, in do_execute\n      res = shell.run_cell(\n    File \"/Users/hwanghyeongyu/miniforge3/envs/ai_learning/lib/python3.9/site-packages/ipykernel/zmqshell.py\", line 531, in run_cell\n      return super().run_cell(*args, **kwargs)\n    File \"/Users/hwanghyeongyu/miniforge3/envs/ai_learning/lib/python3.9/site-packages/IPython/core/interactiveshell.py\", line 2940, in run_cell\n      result = self._run_cell(\n    File \"/Users/hwanghyeongyu/miniforge3/envs/ai_learning/lib/python3.9/site-packages/IPython/core/interactiveshell.py\", line 2995, in _run_cell\n      return runner(coro)\n    File \"/Users/hwanghyeongyu/miniforge3/envs/ai_learning/lib/python3.9/site-packages/IPython/core/async_helpers.py\", line 129, in _pseudo_sync_runner\n      coro.send(None)\n    File \"/Users/hwanghyeongyu/miniforge3/envs/ai_learning/lib/python3.9/site-packages/IPython/core/interactiveshell.py\", line 3194, in run_cell_async\n      has_raised = await self.run_ast_nodes(code_ast.body, cell_name,\n    File \"/Users/hwanghyeongyu/miniforge3/envs/ai_learning/lib/python3.9/site-packages/IPython/core/interactiveshell.py\", line 3373, in run_ast_nodes\n      if await self.run_code(code, result, async_=asy):\n    File \"/Users/hwanghyeongyu/miniforge3/envs/ai_learning/lib/python3.9/site-packages/IPython/core/interactiveshell.py\", line 3433, in run_code\n      exec(code_obj, self.user_global_ns, self.user_ns)\n    File \"/var/folders/xf/sy2fwpl54bzcxvmkf38nzntw0000gn/T/ipykernel_24628/1196816062.py\", line 2, in <module>\n      history = model.fit(\n    File \"/Users/hwanghyeongyu/miniforge3/envs/ai_learning/lib/python3.9/site-packages/keras/utils/traceback_utils.py\", line 64, in error_handler\n      return fn(*args, **kwargs)\n    File \"/Users/hwanghyeongyu/miniforge3/envs/ai_learning/lib/python3.9/site-packages/keras/engine/training.py\", line 1384, in fit\n      tmp_logs = self.train_function(iterator)\n    File \"/Users/hwanghyeongyu/miniforge3/envs/ai_learning/lib/python3.9/site-packages/keras/engine/training.py\", line 1021, in train_function\n      return step_function(self, iterator)\n    File \"/Users/hwanghyeongyu/miniforge3/envs/ai_learning/lib/python3.9/site-packages/keras/engine/training.py\", line 1010, in step_function\n      outputs = model.distribute_strategy.run(run_step, args=(data,))\n    File \"/Users/hwanghyeongyu/miniforge3/envs/ai_learning/lib/python3.9/site-packages/keras/engine/training.py\", line 1000, in run_step\n      outputs = model.train_step(data)\n    File \"/Users/hwanghyeongyu/miniforge3/envs/ai_learning/lib/python3.9/site-packages/keras/engine/training.py\", line 864, in train_step\n      return self.compute_metrics(x, y, y_pred, sample_weight)\n    File \"/Users/hwanghyeongyu/miniforge3/envs/ai_learning/lib/python3.9/site-packages/keras/engine/training.py\", line 957, in compute_metrics\n      self.compiled_metrics.update_state(y, y_pred, sample_weight)\n    File \"/Users/hwanghyeongyu/miniforge3/envs/ai_learning/lib/python3.9/site-packages/keras/engine/compile_utils.py\", line 459, in update_state\n      metric_obj.update_state(y_t, y_p, sample_weight=mask)\n    File \"/Users/hwanghyeongyu/miniforge3/envs/ai_learning/lib/python3.9/site-packages/keras/utils/metrics_utils.py\", line 70, in decorated\n      update_op = update_state_fn(*args, **kwargs)\n    File \"/Users/hwanghyeongyu/miniforge3/envs/ai_learning/lib/python3.9/site-packages/keras/metrics.py\", line 178, in update_state_fn\n      return ag_update_state(*args, **kwargs)\n    File \"/Users/hwanghyeongyu/miniforge3/envs/ai_learning/lib/python3.9/site-packages/keras/metrics.py\", line 2347, in update_state\n      return metrics_utils.update_confusion_matrix_variables(\n    File \"/Users/hwanghyeongyu/miniforge3/envs/ai_learning/lib/python3.9/site-packages/keras/utils/metrics_utils.py\", line 602, in update_confusion_matrix_variables\n      tf.compat.v1.assert_greater_equal(\nNode: 'assert_greater_equal/Assert/AssertGuard/Assert'\nDetected at node 'assert_greater_equal/Assert/AssertGuard/Assert' defined at (most recent call last):\n    File \"/Users/hwanghyeongyu/miniforge3/envs/ai_learning/lib/python3.9/runpy.py\", line 197, in _run_module_as_main\n      return _run_code(code, main_globals, None,\n    File \"/Users/hwanghyeongyu/miniforge3/envs/ai_learning/lib/python3.9/runpy.py\", line 87, in _run_code\n      exec(code, run_globals)\n    File \"/Users/hwanghyeongyu/miniforge3/envs/ai_learning/lib/python3.9/site-packages/ipykernel_launcher.py\", line 17, in <module>\n      app.launch_new_instance()\n    File \"/Users/hwanghyeongyu/miniforge3/envs/ai_learning/lib/python3.9/site-packages/traitlets/config/application.py\", line 992, in launch_instance\n      app.start()\n    File \"/Users/hwanghyeongyu/miniforge3/envs/ai_learning/lib/python3.9/site-packages/ipykernel/kernelapp.py\", line 711, in start\n      self.io_loop.start()\n    File \"/Users/hwanghyeongyu/miniforge3/envs/ai_learning/lib/python3.9/site-packages/tornado/platform/asyncio.py\", line 215, in start\n      self.asyncio_loop.run_forever()\n    File \"/Users/hwanghyeongyu/miniforge3/envs/ai_learning/lib/python3.9/asyncio/base_events.py\", line 601, in run_forever\n      self._run_once()\n    File \"/Users/hwanghyeongyu/miniforge3/envs/ai_learning/lib/python3.9/asyncio/base_events.py\", line 1905, in _run_once\n      handle._run()\n    File \"/Users/hwanghyeongyu/miniforge3/envs/ai_learning/lib/python3.9/asyncio/events.py\", line 80, in _run\n      self._context.run(self._callback, *self._args)\n    File \"/Users/hwanghyeongyu/miniforge3/envs/ai_learning/lib/python3.9/site-packages/ipykernel/kernelbase.py\", line 510, in dispatch_queue\n      await self.process_one()\n    File \"/Users/hwanghyeongyu/miniforge3/envs/ai_learning/lib/python3.9/site-packages/ipykernel/kernelbase.py\", line 499, in process_one\n      await dispatch(*args)\n    File \"/Users/hwanghyeongyu/miniforge3/envs/ai_learning/lib/python3.9/site-packages/ipykernel/kernelbase.py\", line 406, in dispatch_shell\n      await result\n    File \"/Users/hwanghyeongyu/miniforge3/envs/ai_learning/lib/python3.9/site-packages/ipykernel/kernelbase.py\", line 729, in execute_request\n      reply_content = await reply_content\n    File \"/Users/hwanghyeongyu/miniforge3/envs/ai_learning/lib/python3.9/site-packages/ipykernel/ipkernel.py\", line 411, in do_execute\n      res = shell.run_cell(\n    File \"/Users/hwanghyeongyu/miniforge3/envs/ai_learning/lib/python3.9/site-packages/ipykernel/zmqshell.py\", line 531, in run_cell\n      return super().run_cell(*args, **kwargs)\n    File \"/Users/hwanghyeongyu/miniforge3/envs/ai_learning/lib/python3.9/site-packages/IPython/core/interactiveshell.py\", line 2940, in run_cell\n      result = self._run_cell(\n    File \"/Users/hwanghyeongyu/miniforge3/envs/ai_learning/lib/python3.9/site-packages/IPython/core/interactiveshell.py\", line 2995, in _run_cell\n      return runner(coro)\n    File \"/Users/hwanghyeongyu/miniforge3/envs/ai_learning/lib/python3.9/site-packages/IPython/core/async_helpers.py\", line 129, in _pseudo_sync_runner\n      coro.send(None)\n    File \"/Users/hwanghyeongyu/miniforge3/envs/ai_learning/lib/python3.9/site-packages/IPython/core/interactiveshell.py\", line 3194, in run_cell_async\n      has_raised = await self.run_ast_nodes(code_ast.body, cell_name,\n    File \"/Users/hwanghyeongyu/miniforge3/envs/ai_learning/lib/python3.9/site-packages/IPython/core/interactiveshell.py\", line 3373, in run_ast_nodes\n      if await self.run_code(code, result, async_=asy):\n    File \"/Users/hwanghyeongyu/miniforge3/envs/ai_learning/lib/python3.9/site-packages/IPython/core/interactiveshell.py\", line 3433, in run_code\n      exec(code_obj, self.user_global_ns, self.user_ns)\n    File \"/var/folders/xf/sy2fwpl54bzcxvmkf38nzntw0000gn/T/ipykernel_24628/1196816062.py\", line 2, in <module>\n      history = model.fit(\n    File \"/Users/hwanghyeongyu/miniforge3/envs/ai_learning/lib/python3.9/site-packages/keras/utils/traceback_utils.py\", line 64, in error_handler\n      return fn(*args, **kwargs)\n    File \"/Users/hwanghyeongyu/miniforge3/envs/ai_learning/lib/python3.9/site-packages/keras/engine/training.py\", line 1384, in fit\n      tmp_logs = self.train_function(iterator)\n    File \"/Users/hwanghyeongyu/miniforge3/envs/ai_learning/lib/python3.9/site-packages/keras/engine/training.py\", line 1021, in train_function\n      return step_function(self, iterator)\n    File \"/Users/hwanghyeongyu/miniforge3/envs/ai_learning/lib/python3.9/site-packages/keras/engine/training.py\", line 1010, in step_function\n      outputs = model.distribute_strategy.run(run_step, args=(data,))\n    File \"/Users/hwanghyeongyu/miniforge3/envs/ai_learning/lib/python3.9/site-packages/keras/engine/training.py\", line 1000, in run_step\n      outputs = model.train_step(data)\n    File \"/Users/hwanghyeongyu/miniforge3/envs/ai_learning/lib/python3.9/site-packages/keras/engine/training.py\", line 864, in train_step\n      return self.compute_metrics(x, y, y_pred, sample_weight)\n    File \"/Users/hwanghyeongyu/miniforge3/envs/ai_learning/lib/python3.9/site-packages/keras/engine/training.py\", line 957, in compute_metrics\n      self.compiled_metrics.update_state(y, y_pred, sample_weight)\n    File \"/Users/hwanghyeongyu/miniforge3/envs/ai_learning/lib/python3.9/site-packages/keras/engine/compile_utils.py\", line 459, in update_state\n      metric_obj.update_state(y_t, y_p, sample_weight=mask)\n    File \"/Users/hwanghyeongyu/miniforge3/envs/ai_learning/lib/python3.9/site-packages/keras/utils/metrics_utils.py\", line 70, in decorated\n      update_op = update_state_fn(*args, **kwargs)\n    File \"/Users/hwanghyeongyu/miniforge3/envs/ai_learning/lib/python3.9/site-packages/keras/metrics.py\", line 178, in update_state_fn\n      return ag_update_state(*args, **kwargs)\n    File \"/Users/hwanghyeongyu/miniforge3/envs/ai_learning/lib/python3.9/site-packages/keras/metrics.py\", line 2347, in update_state\n      return metrics_utils.update_confusion_matrix_variables(\n    File \"/Users/hwanghyeongyu/miniforge3/envs/ai_learning/lib/python3.9/site-packages/keras/utils/metrics_utils.py\", line 602, in update_confusion_matrix_variables\n      tf.compat.v1.assert_greater_equal(\nNode: 'assert_greater_equal/Assert/AssertGuard/Assert'\n2 root error(s) found.\n  (0) INVALID_ARGUMENT:  assertion failed: [predictions must be >= 0] [Condition x >= y did not hold element-wise:] [x (sequential/dense/Sigmoid:0) = ] [[9.47553264e-22][2.33686853e-22][4.74968229e-22]...] [y (Cast_3/x:0) = ] [0]\n\t [[{{node assert_greater_equal/Assert/AssertGuard/Assert}}]]\n\t [[assert_less_equal/Assert/AssertGuard/pivot_f/_13/_63]]\n  (1) INVALID_ARGUMENT:  assertion failed: [predictions must be >= 0] [Condition x >= y did not hold element-wise:] [x (sequential/dense/Sigmoid:0) = ] [[9.47553264e-22][2.33686853e-22][4.74968229e-22]...] [y (Cast_3/x:0) = ] [0]\n\t [[{{node assert_greater_equal/Assert/AssertGuard/Assert}}]]\n0 successful operations.\n0 derived errors ignored. [Op:__inference_train_function_2820]"
     ]
    }
   ],
   "source": [
    "print(\"Training model...\")\n",
    "history = model.fit(\n",
    "    X_train,\n",
    "    y_train,\n",
    "    epochs=50,\n",
    "    batch_size=32,\n",
    "    validation_data=(X_test, y_test), \n",
    "    verbose=1,\n",
    "    shuffle=False,\n",
    "    callbacks=[\n",
    "        EarlyStopping(\n",
    "            monitor='val_auc',\n",
    "            mode='max',\n",
    "            patience=3,\n",
    "        ),\n",
    "        ModelCheckpoint(\n",
    "            'lstm.h5',\n",
    "            save_best_only=True,\n",
    "            monitor='val_auc',\n",
    "            mode='max'\n",
    "        )\n",
    "    ]\n",
    ")"
   ]
  },
  {
   "cell_type": "code",
   "execution_count": null,
   "metadata": {},
   "outputs": [],
   "source": [
    "# plot history\n",
    "pyplot.plot(history.history['auc'], label='train')\n",
    "pyplot.plot(history.history['val_auc'], label='test')\n",
    "pyplot.legend()\n",
    "pyplot.show()"
   ]
  },
  {
   "cell_type": "code",
   "execution_count": null,
   "metadata": {},
   "outputs": [],
   "source": [
    "# Save model with pickle\n",
    "import pickle\n",
    "with open(\"model.pkl\", \"wb\") as f:\n",
    "    pickle.dump(model, f)"
   ]
  }
 ],
 "metadata": {
  "kernelspec": {
   "display_name": "ai_learning",
   "language": "python",
   "name": "python3"
  },
  "language_info": {
   "codemirror_mode": {
    "name": "ipython",
    "version": 3
   },
   "file_extension": ".py",
   "mimetype": "text/x-python",
   "name": "python",
   "nbconvert_exporter": "python",
   "pygments_lexer": "ipython3",
   "version": "3.9.15 | packaged by conda-forge | (main, Nov 22 2022, 08:52:10) \n[Clang 14.0.6 ]"
  },
  "orig_nbformat": 4,
  "vscode": {
   "interpreter": {
    "hash": "3fbfc89dcf5742aaeef0feb656121d5a1cfee5cf52a7760ff9deb55a4a1d42e1"
   }
  }
 },
 "nbformat": 4,
 "nbformat_minor": 2
}
