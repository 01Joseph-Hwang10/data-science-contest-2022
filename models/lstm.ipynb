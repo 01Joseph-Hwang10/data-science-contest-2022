{
 "cells": [
  {
   "cell_type": "code",
   "execution_count": 1,
   "metadata": {},
   "outputs": [],
   "source": [
    "# import optuna\n",
    "# from optuna.trial import Trial\n",
    "import numpy as np\n",
    "import pandas as pd\n",
    "from sklearn.model_selection import cross_val_score, train_test_split\n",
    "from typing import List, Any, Tuple\n",
    "from sklearn.preprocessing import MinMaxScaler\n",
    "from keras.models import Sequential\n",
    "from keras.layers import Dense, LSTM, Dropout, Activation\n",
    "from keras.metrics import AUC\n",
    "from matplotlib import pyplot\n",
    "from tqdm import tqdm"
   ]
  },
  {
   "cell_type": "code",
   "execution_count": 3,
   "metadata": {},
   "outputs": [
    {
     "name": "stdout",
     "output_type": "stream",
     "text": [
      "Loading data...\n"
     ]
    }
   ],
   "source": [
    "# Data Loading\n",
    "print(\"Loading data...\")\n",
    "X_model = pd.read_csv('../data/X_model.csv')\n",
    "Y_model = pd.read_csv('../data/Y_model.csv')"
   ]
  },
  {
   "cell_type": "code",
   "execution_count": 28,
   "metadata": {},
   "outputs": [
    {
     "name": "stdout",
     "output_type": "stream",
     "text": [
      "Preprocessing data...\n"
     ]
    }
   ],
   "source": [
    "# Data Preprocessing\n",
    "print(\"Preprocessing data...\")\n",
    "def as_timeseries_df(X: pd.DataFrame) -> np.ndarray:\n",
    "    \"\"\"Converts a DataFrame with `['gender', 'age_code', 'region_code', 'c', 't', 's']` columns and additional time column with timestamps to a time series DataFrame.\n",
    "\n",
    "    Args:\n",
    "        X (pd.DataFrame): DataFrame. The data should match the following format:\n",
    "            gender: 1 (if man) | 2 (if woman)\n",
    "            age_code: Integer\n",
    "            region_code: Integer\n",
    "            r\"c2022[0-9]{2}\": Number of logins. Integer\n",
    "            r\"t2022[0-9]{2}\": Number of logins with money transfer. Integer\n",
    "            r\"s2022[0-9]{2}\": Duration of logins. Float\n",
    "    \n",
    "    Returns:\n",
    "        np.ndarray: Time series DataFrame. Each column's description (in order):\n",
    "            id: Integer. Same as initial DataFrame's index.\n",
    "            time: Timestamp.\n",
    "            gender: 1 (if man) | 2 (if woman)\n",
    "            age_code: Integer\n",
    "            region_code: Integer\n",
    "            c: Number of logins. Integer\n",
    "            t: Number of logins with money transfer. Integer\n",
    "            s: Duration of logins. Float\n",
    "    \"\"\"\n",
    "    # Data cleaning\n",
    "    print(\"Cleaning data...\")\n",
    "    X = X.fillna(0)\n",
    "\n",
    "    # Data transformation\n",
    "    print(\"Transforming data...\")\n",
    "    n = len(X)\n",
    "\n",
    "    X['id'] = X.index\n",
    "    X_timeseries = pd.wide_to_long(X, [\"c\", \"t\", \"s\"], i=\"id\", j=\"time\").reset_index()\n",
    "    return np.array([X_timeseries[X_timeseries['id'] == i] for i in range(len(X_model))])\n"
   ]
  },
  {
   "cell_type": "code",
   "execution_count": 15,
   "metadata": {},
   "outputs": [
    {
     "name": "stdout",
     "output_type": "stream",
     "text": [
      "Cleaning data...\n",
      "Transforming data...\n"
     ]
    }
   ],
   "source": [
    "# Columns: id, time, region_code, gender, age_code, c, t, s\n",
    "X_timeseries = as_timeseries_df(X_model)"
   ]
  },
  {
   "cell_type": "code",
   "execution_count": 24,
   "metadata": {},
   "outputs": [
    {
     "data": {
      "text/html": [
       "<div>\n",
       "<style scoped>\n",
       "    .dataframe tbody tr th:only-of-type {\n",
       "        vertical-align: middle;\n",
       "    }\n",
       "\n",
       "    .dataframe tbody tr th {\n",
       "        vertical-align: top;\n",
       "    }\n",
       "\n",
       "    .dataframe thead th {\n",
       "        text-align: right;\n",
       "    }\n",
       "</style>\n",
       "<table border=\"1\" class=\"dataframe\">\n",
       "  <thead>\n",
       "    <tr style=\"text-align: right;\">\n",
       "      <th></th>\n",
       "      <th>id</th>\n",
       "      <th>time</th>\n",
       "      <th>region_code</th>\n",
       "      <th>gender</th>\n",
       "      <th>age_code</th>\n",
       "      <th>c</th>\n",
       "      <th>t</th>\n",
       "      <th>s</th>\n",
       "    </tr>\n",
       "  </thead>\n",
       "  <tbody>\n",
       "    <tr>\n",
       "      <th>0</th>\n",
       "      <td>0</td>\n",
       "      <td>20220101</td>\n",
       "      <td>7</td>\n",
       "      <td>1</td>\n",
       "      <td>13</td>\n",
       "      <td>0.0</td>\n",
       "      <td>0.0</td>\n",
       "      <td>0.0</td>\n",
       "    </tr>\n",
       "    <tr>\n",
       "      <th>1</th>\n",
       "      <td>1</td>\n",
       "      <td>20220101</td>\n",
       "      <td>1</td>\n",
       "      <td>1</td>\n",
       "      <td>5</td>\n",
       "      <td>0.0</td>\n",
       "      <td>0.0</td>\n",
       "      <td>0.0</td>\n",
       "    </tr>\n",
       "    <tr>\n",
       "      <th>2</th>\n",
       "      <td>2</td>\n",
       "      <td>20220101</td>\n",
       "      <td>2</td>\n",
       "      <td>2</td>\n",
       "      <td>6</td>\n",
       "      <td>0.0</td>\n",
       "      <td>0.0</td>\n",
       "      <td>0.0</td>\n",
       "    </tr>\n",
       "    <tr>\n",
       "      <th>3</th>\n",
       "      <td>3</td>\n",
       "      <td>20220101</td>\n",
       "      <td>1</td>\n",
       "      <td>2</td>\n",
       "      <td>1</td>\n",
       "      <td>0.0</td>\n",
       "      <td>0.0</td>\n",
       "      <td>0.0</td>\n",
       "    </tr>\n",
       "    <tr>\n",
       "      <th>4</th>\n",
       "      <td>4</td>\n",
       "      <td>20220101</td>\n",
       "      <td>1</td>\n",
       "      <td>2</td>\n",
       "      <td>5</td>\n",
       "      <td>0.0</td>\n",
       "      <td>0.0</td>\n",
       "      <td>0.0</td>\n",
       "    </tr>\n",
       "  </tbody>\n",
       "</table>\n",
       "</div>"
      ],
      "text/plain": [
       "   id      time  region_code  gender  age_code    c    t    s\n",
       "0   0  20220101            7       1        13  0.0  0.0  0.0\n",
       "1   1  20220101            1       1         5  0.0  0.0  0.0\n",
       "2   2  20220101            2       2         6  0.0  0.0  0.0\n",
       "3   3  20220101            1       2         1  0.0  0.0  0.0\n",
       "4   4  20220101            1       2         5  0.0  0.0  0.0"
      ]
     },
     "execution_count": 24,
     "metadata": {},
     "output_type": "execute_result"
    }
   ],
   "source": [
    "X_timeseries.head()\n",
    "# (800000, 238, 8)"
   ]
  },
  {
   "cell_type": "code",
   "execution_count": 44,
   "metadata": {},
   "outputs": [],
   "source": [
    "X_timeseries = X_timeseries.values"
   ]
  },
  {
   "cell_type": "code",
   "execution_count": 45,
   "metadata": {},
   "outputs": [
    {
     "data": {
      "text/plain": [
       "array([[0.0000000e+00, 2.0220101e+07, 7.0000000e+00, ..., 0.0000000e+00,\n",
       "        0.0000000e+00, 0.0000000e+00],\n",
       "       [1.0000000e+00, 2.0220101e+07, 1.0000000e+00, ..., 0.0000000e+00,\n",
       "        0.0000000e+00, 0.0000000e+00],\n",
       "       [2.0000000e+00, 2.0220101e+07, 2.0000000e+00, ..., 0.0000000e+00,\n",
       "        0.0000000e+00, 0.0000000e+00],\n",
       "       ...,\n",
       "       [7.9999700e+05, 2.0220826e+07, 7.0000000e+00, ..., 1.0000000e+00,\n",
       "        0.0000000e+00, 6.0000000e+00],\n",
       "       [7.9999800e+05, 2.0220826e+07, 1.0000000e+00, ..., 0.0000000e+00,\n",
       "        0.0000000e+00, 0.0000000e+00],\n",
       "       [7.9999900e+05, 2.0220826e+07, 1.0000000e+00, ..., 1.0000000e+00,\n",
       "        1.0000000e+00, 7.2000000e+01]])"
      ]
     },
     "execution_count": 45,
     "metadata": {},
     "output_type": "execute_result"
    }
   ],
   "source": [
    "X_timeseries"
   ]
  },
  {
   "cell_type": "code",
   "execution_count": null,
   "metadata": {},
   "outputs": [],
   "source": [
    "X_augmented.shape"
   ]
  },
  {
   "cell_type": "code",
   "execution_count": null,
   "metadata": {},
   "outputs": [],
   "source": []
  },
  {
   "cell_type": "code",
   "execution_count": null,
   "metadata": {},
   "outputs": [],
   "source": [
    "# Train Test Split\n",
    "print(\"Splitting data...\")\n",
    "X_train, X_test, y_train, y_test = train_test_split(X_augmented, Y_model, test_size=0.2, random_state=42) "
   ]
  },
  {
   "cell_type": "code",
   "execution_count": null,
   "metadata": {},
   "outputs": [],
   "source": [
    "# design network\n",
    "# References: \n",
    "# - https://towardsdatascience.com/choosing-the-right-hyperparameters-for-a-simple-lstm-using-keras-f8e9ed76f046\n",
    "# - https://stats.stackexchange.com/questions/242238/what-is-considered-a-normal-quantity-of-outliers\n",
    "# - https://machinelearningmastery.com/multivariate-time-series-forecasting-lstms-keras/\n",
    "hidden_nodes = int(2/3 * (X_train.shape[1] * X_train.shape[2]))\n",
    "model = Sequential()\n",
    "model.add(LSTM(hidden_nodes, input_shape=(X_train.shape[1], X_train.shape[2])))\n",
    "model.add(Dropout(0.2))\n",
    "model.add(Dense(1))\n",
    "model.add(Activation('softmax'))\n",
    "model.compile(\n",
    "    loss='mae',\n",
    "    optimizer='adam',\n",
    "    metrics=[AUC()]\n",
    ")"
   ]
  },
  {
   "cell_type": "code",
   "execution_count": null,
   "metadata": {},
   "outputs": [],
   "source": [
    "print(\"Training model...\")\n",
    "history = model.fit(\n",
    "    X_augmented,\n",
    "    y_train,\n",
    "    epochs=50,\n",
    "    batch_size=100,\n",
    "    validation_data=(X_test, y_test), \n",
    "    verbose=2,\n",
    "    shuffle=False\n",
    ")"
   ]
  },
  {
   "cell_type": "code",
   "execution_count": null,
   "metadata": {},
   "outputs": [],
   "source": [
    "# plot history\n",
    "pyplot.plot(history.history['loss'], label='train')\n",
    "pyplot.plot(history.history['val_loss'], label='test')\n",
    "pyplot.legend()\n",
    "pyplot.show()\n"
   ]
  }
 ],
 "metadata": {
  "kernelspec": {
   "display_name": "ai_learning",
   "language": "python",
   "name": "python3"
  },
  "language_info": {
   "codemirror_mode": {
    "name": "ipython",
    "version": 3
   },
   "file_extension": ".py",
   "mimetype": "text/x-python",
   "name": "python",
   "nbconvert_exporter": "python",
   "pygments_lexer": "ipython3",
   "version": "3.9.13"
  },
  "orig_nbformat": 4,
  "vscode": {
   "interpreter": {
    "hash": "3fbfc89dcf5742aaeef0feb656121d5a1cfee5cf52a7760ff9deb55a4a1d42e1"
   }
  }
 },
 "nbformat": 4,
 "nbformat_minor": 2
}
