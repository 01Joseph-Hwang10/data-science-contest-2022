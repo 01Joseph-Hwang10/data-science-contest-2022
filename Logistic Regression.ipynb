{
 "cells": [
  {
   "cell_type": "code",
   "execution_count": 1,
   "id": "d538e092",
   "metadata": {},
   "outputs": [],
   "source": [
    "import numpy as np\n",
    "import pandas as pd\n",
    "from sklearn.datasets import load_iris\n",
    "from sklearn.model_selection import train_test_split\n",
    "from sklearn.naive_bayes import GaussianNB\n",
    "#from sklearn.ensemble import RandomForestClassifier\n",
    "import matplotlib.pyplot as plt\n",
    "\n",
    "#from sklearn.metrics import roc_auc_score\n",
    "from sklearn.model_selection import cross_val_score\n",
    "from sklearn.model_selection import StratifiedKFold\n",
    "from sklearn.model_selection import GridSearchCV\n",
    "from sklearn.tree import DecisionTreeClassifier\n",
    "from sklearn.preprocessing import StandardScaler\n",
    "from sklearn.linear_model import LogisticRegression\n",
    "\n",
    "import optuna\n",
    "from optuna.trial import Trial\n",
    "from optuna.samplers import TPESampler\n",
    "import warnings\n",
    "warnings.filterwarnings('ignore')"
   ]
  },
  {
   "cell_type": "code",
   "execution_count": 2,
   "id": "45c894e9",
   "metadata": {},
   "outputs": [
    {
     "name": "stdout",
     "output_type": "stream",
     "text": [
      "   gender  age_code  region_code  cGIT  tGIT    sGIT  tVAT    sVAT  cEntire  \\\n",
      "0       1        13            7   0.0   0.0     0.0   0.0     0.0      1.0   \n",
      "1       1         5            1   2.0   0.0    17.0   0.0   185.0     39.0   \n",
      "2       2         6            2   6.0   3.0  2253.0   0.0  1712.0     26.0   \n",
      "3       2         1            1   2.0   0.0   342.0   0.0     0.0      5.0   \n",
      "4       2         5            1   2.0   0.0   273.0   0.0   104.0     10.0   \n",
      "\n",
      "   tEntire  sEntire     rcGIT  rtGIT     rsGIT  rtVAT     rsVAT  \n",
      "0      1.0     93.0  0.000000    0.0  0.000000    0.0  0.000000  \n",
      "1      0.0    790.0  0.051282    0.0  0.021519    0.0  0.234177  \n",
      "2      3.0   5119.0  0.230769    1.0  0.440125    0.0  0.334440  \n",
      "3      0.0    647.0  0.400000    0.0  0.528594    0.0  0.000000  \n",
      "4      1.0    608.0  0.200000    0.0  0.449013    0.0  0.171053  \n"
     ]
    }
   ],
   "source": [
    "# Data Loading\n",
    "X_model = pd.read_csv('X_model.csv')\n",
    "Y_model = pd.read_csv('Y_model.csv')\n",
    "# Define preprocessors\n",
    "def preprocess(X: pd.DataFrame):\n",
    "    X = X.fillna(0)\n",
    "    # Create new dataframe from columns \"gender\", \"age_code\", and \"region_code\"\n",
    "    X_new = pd.DataFrame(X, columns=['gender', 'age_code', 'region_code'])\n",
    "    GIT_range = r\"202205[0-9]{2}\"\n",
    "    cGIT = np.sum(X.filter(regex=(\"c\" + GIT_range), axis=1).values, axis=1)\n",
    "    tGIT = np.sum(X.filter(regex=(\"t\" + GIT_range), axis=1).values, axis=1)\n",
    "    sGIT = np.sum(X.filter(regex=(\"s\" + GIT_range), axis=1).values, axis=1)\n",
    "\n",
    "    VAT_range = r\"20220[17](?:[01][0-9]|2[0-5])\"\n",
    "    tVAT = np.sum(X.filter(regex=(\"t\" + VAT_range), axis=1).values, axis=1)\n",
    "    sVAT = np.sum(X.filter(regex=(\"s\" + VAT_range), axis=1).values, axis=1)\n",
    "\n",
    "    entire_range = r\"2022[0-9]{4}\"\n",
    "    cEntire = np.sum(X.filter(regex=(\"c\" + entire_range), axis=1).values, axis=1)\n",
    "    tEntire = np.sum(X.filter(regex=(\"t\" + entire_range), axis=1).values, axis=1)\n",
    "    sEntire = np.sum(X.filter(regex=(\"s\" + entire_range), axis=1).values, axis=1)\n",
    "\n",
    "    rcGIT = np.divide(cGIT, cEntire)\n",
    "    rtGIT = np.divide(tGIT, tEntire)\n",
    "    rsGIT = np.divide(sGIT, sEntire)\n",
    "\n",
    "    rtVAT = np.divide(tVAT, tEntire)\n",
    "    rsVAT = np.divide(sVAT, sEntire)\n",
    "\n",
    "    X_new['cGIT'] = cGIT\n",
    "    X_new['tGIT'] = tGIT\n",
    "    X_new['sGIT'] = sGIT\n",
    "\n",
    "    X_new['tVAT'] = tVAT\n",
    "    X_new['sVAT'] = sVAT\n",
    "\n",
    "    X_new['cEntire'] = cEntire\n",
    "    X_new['tEntire'] = tEntire\n",
    "    X_new['sEntire'] = sEntire\n",
    "\n",
    "    X_new['rcGIT'] = rcGIT\n",
    "    X_new['rtGIT'] = rtGIT\n",
    "    X_new['rsGIT'] = rsGIT\n",
    "\n",
    "    X_new['rtVAT'] = rtVAT\n",
    "    X_new['rsVAT'] = rsVAT\n",
    "\n",
    "    X_new = X_new.fillna(0)\n",
    "    print(X_new.head())\n",
    "\n",
    "    return X_new\n",
    "# Preprocess\n",
    "X_model = preprocess(X_model)"
   ]
  },
  {
   "cell_type": "code",
   "execution_count": 15,
   "id": "1f14e9ac",
   "metadata": {},
   "outputs": [],
   "source": [
    "features = X_model[['sEntire', 'rcGIT', 'rtGIT', 'rsGIT', 'rtVAT', 'rsVAT']]\n",
    "check = Y_model[['business']]"
   ]
  },
  {
   "cell_type": "code",
   "execution_count": 16,
   "id": "08560498",
   "metadata": {},
   "outputs": [],
   "source": [
    "train_features, test_features, train_labels, test_labels = train_test_split(features, check)"
   ]
  },
  {
   "cell_type": "code",
   "execution_count": 17,
   "id": "550e6407",
   "metadata": {},
   "outputs": [],
   "source": [
    "scaler = StandardScaler()\n",
    "train_features = scaler.fit_transform(train_features)\n",
    "test_features = scaler.transform(test_features)"
   ]
  },
  {
   "cell_type": "code",
   "execution_count": 18,
   "id": "4e823819",
   "metadata": {},
   "outputs": [
    {
     "name": "stdout",
     "output_type": "stream",
     "text": [
      "0.93397\n"
     ]
    }
   ],
   "source": [
    "model = LogisticRegression()\n",
    "model.fit(train_features, train_labels)\n",
    "print(model.score(train_features, train_labels))"
   ]
  },
  {
   "cell_type": "code",
   "execution_count": 19,
   "id": "b1c4dfe1",
   "metadata": {},
   "outputs": [
    {
     "name": "stdout",
     "output_type": "stream",
     "text": [
      "0.933485\n"
     ]
    }
   ],
   "source": [
    "print(model.score(test_features, test_labels))"
   ]
  },
  {
   "cell_type": "code",
   "execution_count": 20,
   "id": "382b01be",
   "metadata": {},
   "outputs": [
    {
     "name": "stdout",
     "output_type": "stream",
     "text": [
      "[[ 0.64869814 -0.01822165  0.28046918 -0.06141629  0.33711658 -0.17327164]]\n"
     ]
    }
   ],
   "source": [
    "print(model.coef_)"
   ]
  },
  {
   "cell_type": "code",
   "execution_count": null,
   "id": "ebf83e61",
   "metadata": {},
   "outputs": [],
   "source": []
  }
 ],
 "metadata": {
  "kernelspec": {
   "display_name": "Python 3 (ipykernel)",
   "language": "python",
   "name": "python3"
  },
  "language_info": {
   "codemirror_mode": {
    "name": "ipython",
    "version": 3
   },
   "file_extension": ".py",
   "mimetype": "text/x-python",
   "name": "python",
   "nbconvert_exporter": "python",
   "pygments_lexer": "ipython3",
   "version": "3.9.12"
  }
 },
 "nbformat": 4,
 "nbformat_minor": 5
}
